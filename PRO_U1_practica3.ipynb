{
 "cells": [
  {
   "cell_type": "code",
   "execution_count": 30,
   "id": "a84fbf6a-9680-4c93-94a8-4ac776b37e61",
   "metadata": {},
   "outputs": [],
   "source": [
    "#Probabilidad y estadistica\n",
    "###Facilitador: Jose Gabriel Rodriguez Rivas\n",
    "### Alumno: Jesus Adrian Ramirez Pacheco"
   ]
  },
  {
   "cell_type": "code",
   "execution_count": 2,
   "id": "0c7c33fd-64c9-43f7-a79c-ab40ec600a5c",
   "metadata": {},
   "outputs": [],
   "source": [
    "from statistics import *"
   ]
  },
  {
   "cell_type": "markdown",
   "id": "eaa3d6cc-59e2-439a-b5fe-80daaa153141",
   "metadata": {},
   "source": [
    "## Ejemplo 3: Histogramas de 2 grupos\n",
    "1. En este ejemplo generamos 100 numeros aleatorios reales que representa la produccion diaria de 100 telares (medidas en metros)\n",
    "2. Generar otra lista con la produccion de 100 telares para una segunda fabrica\n",
    "3. Con esta listas de valores se pretende determinar las medidas de tendencia central, es decir, la media, la moda, la mediana, la desviacion estandar.\n",
    "4. Graficar un histograma para cada fabrica."
   ]
  },
  {
   "cell_type": "code",
   "execution_count": 3,
   "id": "6246eb0d-6e3e-4ea5-ade3-3e83f83a5036",
   "metadata": {},
   "outputs": [],
   "source": [
    "# Libreria para generar numeros aleatorios \n",
    "import random\n"
   ]
  },
  {
   "cell_type": "code",
   "execution_count": 4,
   "id": "f7f70bcb-f5c0-4346-b09a-fb9ffb56e1d3",
   "metadata": {},
   "outputs": [
    {
     "name": "stdout",
     "output_type": "stream",
     "text": [
      "[53.77, 63.48, 51.52, 58.9, 71.86, 98.58, 99.07, 96.14, 76.42, 82.82, 71.95, 89.01, 77.15, 74.93, 72.97, 73.35, 93.05, 98.46, 88.91, 96.22, 53.45, 83.14, 98.2, 76.75, 73.02, 73.57, 73.13, 67.68, 67.43, 70.13, 66.99, 75.41, 60.28, 52.99, 53.95, 96.26, 51.77, 54.49, 57.87, 93.37, 95.05, 99.42, 97.75, 68.65, 76.88, 72.03, 58.71, 95.77, 73.58, 70.45, 66.09, 78.09, 80.54, 59.52, 91.37, 64.54, 69.04, 55.94, 57.02, 79.01, 98.93, 99.12, 77.48, 81.04, 77.07, 98.73, 52.65, 57.26, 56.12, 90.23, 57.0, 53.84, 82.54, 97.73, 58.46, 55.4, 86.49, 80.69, 57.96, 50.08, 87.24, 65.03, 99.77, 82.11, 66.81, 63.85, 80.31, 50.17, 86.33, 95.32, 53.89, 63.44, 65.22, 69.14, 87.87, 93.81, 90.65, 58.96, 57.6, 60.46]\n"
     ]
    }
   ],
   "source": [
    "fabrica1 = []\n",
    "for i in range(100):\n",
    "    numero_aleatorio = round(random.uniform(50, 100), 2 )\n",
    "    fabrica1.append(numero_aleatorio)\n",
    "print(fabrica1)"
   ]
  },
  {
   "cell_type": "code",
   "execution_count": 5,
   "id": "8ffcdf8c-b534-4e5c-9146-3ec891d3841b",
   "metadata": {},
   "outputs": [
    {
     "name": "stdout",
     "output_type": "stream",
     "text": [
      "[53.48, 52.75, 65.86, 97.11, 69.16, 84.68, 72.23, 61.82, 87.62, 88.42, 92.4, 68.29, 79.65, 72.43, 76.14, 74.17, 91.99, 77.25, 84.14, 61.3, 90.42, 52.86, 70.37, 60.14, 82.15, 67.73, 75.89, 69.53, 89.56, 80.27, 52.38, 50.36, 93.8, 99.16, 54.71, 75.38, 79.8, 58.32, 73.61, 66.99, 96.47, 98.44, 62.38, 99.36, 80.34, 69.28, 85.03, 60.67, 96.47, 58.08, 71.85, 98.61, 74.47, 71.75, 80.4, 58.41, 83.37, 95.62, 93.82, 94.93, 52.76, 74.33, 82.74, 99.24, 81.17, 79.8, 55.97, 52.21, 65.34, 85.23, 89.37, 67.24, 94.15, 90.22, 63.21, 55.64, 97.5, 81.06, 96.25, 89.13, 97.39, 65.61, 64.49, 50.83, 67.89, 53.55, 71.81, 99.82, 72.75, 68.18, 66.09, 71.22, 72.21, 70.58, 81.73, 55.15, 75.88, 81.54, 64.99, 71.91]\n"
     ]
    }
   ],
   "source": [
    " fabrica2 = []\n",
    "for i in range(100):\n",
    "    numero_aleatorio2 = round(random.uniform(50, 100), 2 )\n",
    "    fabrica2.append(numero_aleatorio2)\n",
    "print(fabrica2)"
   ]
  },
  {
   "cell_type": "code",
   "execution_count": 6,
   "id": "d6ac5c48-fa73-4358-809c-8200ddc5e543",
   "metadata": {},
   "outputs": [
    {
     "ename": "ModuleNotFoundError",
     "evalue": "No module named 'matplotlib'",
     "output_type": "error",
     "traceback": [
      "\u001b[1;31m---------------------------------------------------------------------------\u001b[0m",
      "\u001b[1;31mModuleNotFoundError\u001b[0m                       Traceback (most recent call last)",
      "Cell \u001b[1;32mIn[6], line 2\u001b[0m\n\u001b[0;32m      1\u001b[0m \u001b[38;5;66;03m# libreria de python para graficar valores\u001b[39;00m\n\u001b[1;32m----> 2\u001b[0m \u001b[38;5;28;01mimport\u001b[39;00m \u001b[38;5;21;01mmatplotlib\u001b[39;00m\u001b[38;5;21;01m.\u001b[39;00m\u001b[38;5;21;01mpyplot\u001b[39;00m \u001b[38;5;28;01mas\u001b[39;00m \u001b[38;5;21;01mplt\u001b[39;00m\n",
      "\u001b[1;31mModuleNotFoundError\u001b[0m: No module named 'matplotlib'"
     ]
    }
   ],
   "source": [
    "# libreria de python para graficar valores\n",
    "import matplotlib.pyplot as plt"
   ]
  },
  {
   "cell_type": "code",
   "execution_count": 7,
   "id": "c1eb618d-cfd6-4cbf-8566-109544bb11e6",
   "metadata": {},
   "outputs": [
    {
     "ename": "NameError",
     "evalue": "name 'plt' is not defined",
     "output_type": "error",
     "traceback": [
      "\u001b[1;31m---------------------------------------------------------------------------\u001b[0m",
      "\u001b[1;31mNameError\u001b[0m                                 Traceback (most recent call last)",
      "Cell \u001b[1;32mIn[7], line 1\u001b[0m\n\u001b[1;32m----> 1\u001b[0m \u001b[43mplt\u001b[49m\u001b[38;5;241m.\u001b[39mhist(fabrica1)\n\u001b[0;32m      2\u001b[0m pip\u001b[38;5;241m.\u001b[39mtitle(\u001b[38;5;124m\"\u001b[39m\u001b[38;5;124mProduccion diaria de la fabrica 1\u001b[39m\u001b[38;5;124m\"\u001b[39m)\n",
      "\u001b[1;31mNameError\u001b[0m: name 'plt' is not defined"
     ]
    }
   ],
   "source": [
    "plt.hist(fabrica1)\n",
    "pip.title(\"Produccion diaria de la fabrica 1\")"
   ]
  },
  {
   "cell_type": "code",
   "execution_count": 8,
   "id": "6d38f71e-0ca3-40e7-b509-8f1b2d254165",
   "metadata": {},
   "outputs": [
    {
     "ename": "NameError",
     "evalue": "name 'plt' is not defined",
     "output_type": "error",
     "traceback": [
      "\u001b[1;31m---------------------------------------------------------------------------\u001b[0m",
      "\u001b[1;31mNameError\u001b[0m                                 Traceback (most recent call last)",
      "Cell \u001b[1;32mIn[8], line 1\u001b[0m\n\u001b[1;32m----> 1\u001b[0m \u001b[43mplt\u001b[49m\u001b[38;5;241m.\u001b[39mhist(fabrica2)\n\u001b[0;32m      2\u001b[0m pip\u001b[38;5;241m.\u001b[39mtitle(\u001b[38;5;124m\"\u001b[39m\u001b[38;5;124mProduccion diaria de la fabrica 2\u001b[39m\u001b[38;5;124m\"\u001b[39m)\n",
      "\u001b[1;31mNameError\u001b[0m: name 'plt' is not defined"
     ]
    }
   ],
   "source": [
    "plt.hist(fabrica2)\n",
    "pip.title(\"Produccion diaria de la fabrica 2\")"
   ]
  },
  {
   "cell_type": "code",
   "execution_count": null,
   "id": "b75cf3fc-4aa6-4eaa-b71b-fa22d72b735b",
   "metadata": {},
   "outputs": [],
   "source": [
    "media = mean(fabrica1)\n",
    "mediana = median(fabrica1)\n",
    "moda = mode(fabrica1)\n",
    "\n",
    "print(\"valores de la fabrica 1\")\n",
    "print(\"La media=\", media)\n",
    "print(\"La mediana es=\", mediana)\n",
    "print(\"La moda es =\", moda)"
   ]
  },
  {
   "cell_type": "code",
   "execution_count": null,
   "id": "d489ee23-3af8-4453-bf6c-ebea341da5fb",
   "metadata": {},
   "outputs": [],
   "source": [
    "media = mean(fabrica2)\n",
    "mediana = median(fabrica2)\n",
    "moda = mode(fabrica2)\n",
    "\n",
    "print(\"valores de la fabrica 2\")\n",
    "print(\"La media=\", media)\n",
    "print(\"La mediana es=\", mediana)\n",
    "print(\"La moda es =\", moda)"
   ]
  },
  {
   "cell_type": "code",
   "execution_count": 42,
   "id": "19a62a82-9c0f-4428-8ac2-f38278d3189e",
   "metadata": {},
   "outputs": [
    {
     "ename": "NameError",
     "evalue": "name 'plt' is not defined",
     "output_type": "error",
     "traceback": [
      "\u001b[1;31m---------------------------------------------------------------------------\u001b[0m",
      "\u001b[1;31mNameError\u001b[0m                                 Traceback (most recent call last)",
      "Cell \u001b[1;32mIn[42], line 3\u001b[0m\n\u001b[0;32m      1\u001b[0m \u001b[38;5;66;03m# generar 2 subplot de 1 renglon por 2 columnas para desplegar los 2 histogramas,\u001b[39;00m\n\u001b[0;32m      2\u001b[0m \u001b[38;5;66;03m# una a lado de la otra\u001b[39;00m\n\u001b[1;32m----> 3\u001b[0m fig, (ax1, ax2) \u001b[38;5;241m=\u001b[39m \u001b[43mplt\u001b[49m\u001b[38;5;241m.\u001b[39msubplots(nrows \u001b[38;5;241m=\u001b[39m\u001b[38;5;241m1\u001b[39m, ncols\u001b[38;5;241m=\u001b[39m\u001b[38;5;241m2\u001b[39m)\n",
      "\u001b[1;31mNameError\u001b[0m: name 'plt' is not defined"
     ]
    }
   ],
   "source": [
    "# generar 2 subplot de 1 renglon por 2 columnas para desplegar los 2 histogramas,\n",
    "# una a lado de la otra\n",
    "fig, (ax1, ax2) = plt.subplots(nrows =1, ncols=2)"
   ]
  },
  {
   "cell_type": "code",
   "execution_count": null,
   "id": "6bc68bd7-9d67-4a99-9b9b-5ba6e88c16b7",
   "metadata": {},
   "outputs": [],
   "source": [
    "# generar 2 subplot de 1 renglon por 2 columnas para desplegar los 2 histogramas,\n",
    "# una a lado de la otra\n",
    "fig, (ax1, ax2) = plt.subplots(nrows =1, ncols=2, figsize=(10, 5))\n",
    "ax1.hist(fabrica1)\n",
    "ax2.hist(fabrica2)\n",
    "plt.show()"
   ]
  },
  {
   "cell_type": "code",
   "execution_count": null,
   "id": "97371e5d-e3a5-42b8-90a6-0f20ad373243",
   "metadata": {},
   "outputs": [],
   "source": [
    "#valor minimo, maximo, rango\n",
    "\n",
    "\n",
    "media1 = mean(fabrica1)\n",
    "mediana1 = median(fabrica1)\n",
    "moda1 = mode(fabrica1) "
   ]
  },
  {
   "cell_type": "code",
   "execution_count": 43,
   "id": "405261f3-4f8a-47e2-9312-613186cc18dd",
   "metadata": {},
   "outputs": [
    {
     "ename": "NameError",
     "evalue": "name 'plt' is not defined",
     "output_type": "error",
     "traceback": [
      "\u001b[1;31m---------------------------------------------------------------------------\u001b[0m",
      "\u001b[1;31mNameError\u001b[0m                                 Traceback (most recent call last)",
      "Cell \u001b[1;32mIn[43], line 1\u001b[0m\n\u001b[1;32m----> 1\u001b[0m \u001b[43mplt\u001b[49m\u001b[38;5;241m.\u001b[39mhist(fabrica1, bins\u001b[38;5;241m=\u001b[39m\u001b[38;5;241m10\u001b[39m, alpha\u001b[38;5;241m=\u001b[39m\u001b[38;5;241m0.4\u001b[39m, color\u001b[38;5;241m=\u001b[39m\u001b[38;5;124m'\u001b[39m\u001b[38;5;124mb\u001b[39m\u001b[38;5;124m'\u001b[39m, edgecolor \u001b[38;5;241m=\u001b[39m \u001b[38;5;124m\"\u001b[39m\u001b[38;5;124mBlack\u001b[39m\u001b[38;5;124m\"\u001b[39m)\n\u001b[0;32m      2\u001b[0m plt\u001b[38;5;241m.\u001b[39maxvline(media1, color\u001b[38;5;241m=\u001b[39m\u001b[38;5;124m'\u001b[39m\u001b[38;5;124mb\u001b[39m\u001b[38;5;124m'\u001b[39m, linestyle \u001b[38;5;241m=\u001b[39m\u001b[38;5;124m'\u001b[39m\u001b[38;5;124mdashed\u001b[39m\u001b[38;5;124m'\u001b[39m, linewidth\u001b[38;5;241m=\u001b[39m\u001b[38;5;241m2\u001b[39m, label\u001b[38;5;241m=\u001b[39m\u001b[38;5;124m'\u001b[39m\u001b[38;5;124mMedia\u001b[39m\u001b[38;5;124m'\u001b[39m)\n\u001b[0;32m      3\u001b[0m plt\u001b[38;5;241m.\u001b[39maxvline(mediana1, color\u001b[38;5;241m=\u001b[39m\u001b[38;5;124m'\u001b[39m\u001b[38;5;124mr\u001b[39m\u001b[38;5;124m'\u001b[39m, linestyle \u001b[38;5;241m=\u001b[39m\u001b[38;5;124m'\u001b[39m\u001b[38;5;124mdashed\u001b[39m\u001b[38;5;124m'\u001b[39m, linewidth\u001b[38;5;241m=\u001b[39m\u001b[38;5;241m2\u001b[39m, label\u001b[38;5;241m=\u001b[39m\u001b[38;5;124m'\u001b[39m\u001b[38;5;124mMediana\u001b[39m\u001b[38;5;124m'\u001b[39m)\n",
      "\u001b[1;31mNameError\u001b[0m: name 'plt' is not defined"
     ]
    }
   ],
   "source": [
    "plt.hist(fabrica1, bins=10, alpha=0.2, color='b', edgecolor = \"Black\")\n",
    "plt.axvline(media1, color='b', linestyle ='dashed', linewidth=2, label='Media')\n",
    "plt.axvline(mediana1, color='r', linestyle ='dashed', linewidth=2, label='Mediana')\n",
    "plt.axvline(moda1, color='y', linestyle ='dashed', linewidth=2, label='Moda') \n",
    "plt.xlabel('valor')\n",
    "plt.ylabel('Frecuencia')\n",
    "plt.title(\"produccion diarias de la fabrica 1\")\n",
    "plt.legend()\n",
    "plt.show()"
   ]
  },
  {
   "cell_type": "code",
   "execution_count": null,
   "id": "c7685eab-84a7-4c81-a9cc-e815575a1db2",
   "metadata": {},
   "outputs": [],
   "source": [
    "#valor minimo, maximo, rango\n",
    "\n",
    "\n",
    "media2 = mean(fabrica2)\n",
    "mediana2 = median(fabrica2)\n",
    "moda2 = mode(fabrica2) \n",
    "\n",
    "plt.hist(fabrica2, bins=10, alpha=0.4, color='b', edgecolor = \"Black\")\n",
    "plt.axvline(media2, color='b', linestyle ='dashed', linewidth=2, label='Media')\n",
    "plt.axvline(mediana2, color='r', linestyle ='dashed', linewidth=2, label='Mediana')\n",
    "plt.axvline(moda2, color='y', linestyle ='dashed', linewidth=2, label='Moda') \n",
    "plt.xlabel('valor')\n",
    "plt.ylabel('Frecuencia')\n",
    "plt.title(\"produccion diarias de la fabrica 2\")\n",
    "plt.legend()\n",
    "plt.show() "
   ]
  },
  {
   "cell_type": "markdown",
   "id": "9258e955-9899-46e4-aafb-206fd0311157",
   "metadata": {},
   "source": [
    "## Maximo, minimo y Rango"
   ]
  },
  {
   "cell_type": "code",
   "execution_count": 11,
   "id": "350780c0-085b-4cc2-994a-48686d83889f",
   "metadata": {},
   "outputs": [
    {
     "name": "stdout",
     "output_type": "stream",
     "text": [
      " Estadistica descriptiva de la fabrica 1 \n",
      " media = 74.4469 \n",
      " Mediana= 73.24 \n",
      " Moda= 53.77 \n",
      " Maximo= 99.77 \n",
      " Minimo= 50.08 \n",
      " Rango= 49.69\n"
     ]
    }
   ],
   "source": [
    "maximo = max(fabrica1)\n",
    "minimo = min(fabrica1)\n",
    "rango = maximo - minimo\n",
    "media = mean(fabrica1)\n",
    "mediana = median(fabrica1)\n",
    "moda = mode(fabrica1)\n",
    "\n",
    "print(\" Estadistica descriptiva de la fabrica 1 \\n\", \"Media =\", media, \"\\n Mediana=\", mediana, \"\\n Moda=\", moda, \"\\n Maximo=\", maximo, \"\\n Minimo=\", minimo, \"\\n Rango=\", rango)"
   ]
  },
  {
   "cell_type": "code",
   "execution_count": 12,
   "id": "9d3b16c6-0c16-4813-9ee9-2d30f96c4e46",
   "metadata": {},
   "outputs": [
    {
     "name": "stdout",
     "output_type": "stream",
     "text": [
      " Estadistica descriptiva de la fabrica 2 \n",
      " Media = 75.6025 \n",
      " Mediana= 74.25 \n",
      " Moda= 79.8 \n",
      " Maximo= 99.82 \n",
      " Minimo= 50.36 \n",
      " Rango= 49.69\n"
     ]
    }
   ],
   "source": [
    "maximo2 = max(fabrica2)\n",
    "minimo2 = min(fabrica2)\n",
    "rango2 = maximo - minimo\n",
    "media2 = mean(fabrica2)\n",
    "mediana2 = median(fabrica2)\n",
    "moda2 = mode(fabrica2)\n",
    "\n",
    "print(\" Estadistica descriptiva de la fabrica 2 \\n\", \"Media =\", media2, \"\\n Mediana=\", mediana2, \"\\n Moda=\", moda2, \"\\n Maximo=\", maximo2, \"\\n Minimo=\", minimo2, \"\\n Rango=\", rango2)"
   ]
  },
  {
   "cell_type": "markdown",
   "id": "cd689949-4a67-4f17-89f8-0948ccf71244",
   "metadata": {},
   "source": [
    "## Dispersión de los datos"
   ]
  },
  {
   "cell_type": "code",
   "execution_count": 13,
   "id": "a5b5733b-429d-4b39-bf41-711b35ac8923",
   "metadata": {},
   "outputs": [
    {
     "name": "stdout",
     "output_type": "stream",
     "text": [
      "La desviacion estandar de la fabrica 1 es= 15.494515269095785\n"
     ]
    }
   ],
   "source": [
    "desviacion_estandar_fabrica1 = stdev(fabrica1)\n",
    "print(\"La desviacion estandar de la fabrica 1 es=\", desviacion_estandar_fabrica1)"
   ]
  },
  {
   "cell_type": "code",
   "execution_count": 14,
   "id": "e6b5f2d0-5021-4edb-9c1c-0b50538d0303",
   "metadata": {},
   "outputs": [
    {
     "name": "stdout",
     "output_type": "stream",
     "text": [
      "La desviacion estandar de la fabrica 2 es= 14.324771465027027\n"
     ]
    }
   ],
   "source": [
    "desviacion_estandar_fabrica2 = stdev(fabrica2)\n",
    "print(\"La desviacion estandar de la fabrica 2 es=\", desviacion_estandar_fabrica2)"
   ]
  },
  {
   "cell_type": "code",
   "execution_count": null,
   "id": "dd612898-27b5-4331-9c28-0a70cbda32f4",
   "metadata": {},
   "outputs": [],
   "source": [
    "plt.figure(figsize = (10,8) )\n",
    "plt.hist(fabrica1, bins=10, alpha=0.2, color='b', edgecolor = \"Black\")\n",
    "plt.axvline(media1, color='b', linestyle ='dashed', linewidth=2, label=f'Media={media1:.2f}')\n",
    "plt.axvline(mediana1, color='r', linestyle ='dashed', linewidth=2, label=f'Mediana={mediana1:.2f}')\n",
    "plt.axvline(moda1, color='y', linestyle ='dashed', linewidth=2, label=f'Moda={moda1:.2f}') \n",
    "\n",
    "plt.axvline(media1 - desviacion_estandar_fabrica1, color='black', linestyle ='dashed', \n",
    "            linewidth=2, label=f'Desv. Estandar={desviacion_estandar_fabrica1:.2f}')\n",
    "plt.axvline(media1 + desviacion_estandar_fabrica1, color='black', linestyle ='dashed', \n",
    "            linewidth=2)\n",
    "\n",
    "plt.xlabel('valor')\n",
    "plt.ylabel('Frecuencia')\n",
    "plt.title(\"produccion diarias de la fabrica 1\")\n",
    "plt.legend()\n",
    "plt.show()"
   ]
  },
  {
   "cell_type": "code",
   "execution_count": null,
   "id": "9f5d5fbb-fbdd-439e-a15f-289856a52bdb",
   "metadata": {},
   "outputs": [],
   "source": [
    "plt.figure(figsize = (10,7) )\n",
    "plt.hist(fabrica2, bins=10, alpha=0.2, color='b', edgecolor = \"Black\")\n",
    "plt.axvline(media2, color='b', linestyle ='dashed', linewidth=2, label=f'Media={media2:.2f}')\n",
    "plt.axvline(mediana2, color='r', linestyle ='dashed', linewidth=2, label=f'Mediana={mediana2:.2f}')\n",
    "plt.axvline(moda2, color='y', linestyle ='dashed', linewidth=2, label=f'Moda={moda2:.2f}') \n",
    "\n",
    "plt.axvline(media2 - desviacion_estandar_fabrica2, color='black', linestyle ='dashed', \n",
    "            linewidth=2, label=f'Desv. Estandar={desviacion_estandar_fabrica2:.2f}')\n",
    "plt.axvline(media2 + desviacion_estandar_fabrica2, color='black', linestyle ='dashed', \n",
    "            linewidth=2)\n",
    "\n",
    "plt.xlabel('valor')\n",
    "plt.ylabel('Frecuencia')\n",
    "plt.title(\"produccion diarias de la fabrica 2\")\n",
    "plt.legend()\n",
    "plt.show()"
   ]
  }
 ],
 "metadata": {
  "kernelspec": {
   "display_name": "Python 3 (ipykernel)",
   "language": "python",
   "name": "python3"
  },
  "language_info": {
   "codemirror_mode": {
    "name": "ipython",
    "version": 3
   },
   "file_extension": ".py",
   "mimetype": "text/x-python",
   "name": "python",
   "nbconvert_exporter": "python",
   "pygments_lexer": "ipython3",
   "version": "3.12.2"
  }
 },
 "nbformat": 4,
 "nbformat_minor": 5
}
