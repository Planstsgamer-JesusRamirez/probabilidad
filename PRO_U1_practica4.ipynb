{
 "cells": [
  {
   "cell_type": "code",
   "execution_count": 30,
   "id": "a84fbf6a-9680-4c93-94a8-4ac776b37e61",
   "metadata": {},
   "outputs": [],
   "source": [
    "#Probabilidad y estadistica\n",
    "###Facilitador: Jose Gabriel Rodriguez Rivas\n",
    "### Alumno: Jesus Adrian Ramirez Pacheco"
   ]
  },
  {
   "cell_type": "code",
   "execution_count": 2,
   "id": "0c7c33fd-64c9-43f7-a79c-ab40ec600a5c",
   "metadata": {},
   "outputs": [],
   "source": [
    "from statistics import *"
   ]
  },
  {
   "cell_type": "markdown",
   "id": "eaa3d6cc-59e2-439a-b5fe-80daaa153141",
   "metadata": {},
   "source": [
    "## Ejemplo 3: Histogramas de 2 grupos\n",
    "1. En este ejemplo generamos 100 numeros aleatorios reales que representa la produccion diaria de 100 telares (medidas en metros)\n",
    "2. Generar otra lista con la produccion de 100 telares para una segunda fabrica\n",
    "3. Con esta listas de valores se pretende determinar las medidas de tendencia central, es decir, la media, la moda, la mediana, la desviacion estandar.\n",
    "4. Graficar un histograma para cada fabrica."
   ]
  },
  {
   "cell_type": "code",
   "execution_count": 3,
   "id": "6246eb0d-6e3e-4ea5-ade3-3e83f83a5036",
   "metadata": {},
   "outputs": [],
   "source": [
    "# Libreria para generar numeros aleatorios \n",
    "import random\n"
   ]
  },
  {
   "cell_type": "code",
   "execution_count": 4,
   "id": "f7f70bcb-f5c0-4346-b09a-fb9ffb56e1d3",
   "metadata": {},
   "outputs": [
    {
     "name": "stdout",
     "output_type": "stream",
     "text": [
      "[53.77, 63.48, 51.52, 58.9, 71.86, 98.58, 99.07, 96.14, 76.42, 82.82, 71.95, 89.01, 77.15, 74.93, 72.97, 73.35, 93.05, 98.46, 88.91, 96.22, 53.45, 83.14, 98.2, 76.75, 73.02, 73.57, 73.13, 67.68, 67.43, 70.13, 66.99, 75.41, 60.28, 52.99, 53.95, 96.26, 51.77, 54.49, 57.87, 93.37, 95.05, 99.42, 97.75, 68.65, 76.88, 72.03, 58.71, 95.77, 73.58, 70.45, 66.09, 78.09, 80.54, 59.52, 91.37, 64.54, 69.04, 55.94, 57.02, 79.01, 98.93, 99.12, 77.48, 81.04, 77.07, 98.73, 52.65, 57.26, 56.12, 90.23, 57.0, 53.84, 82.54, 97.73, 58.46, 55.4, 86.49, 80.69, 57.96, 50.08, 87.24, 65.03, 99.77, 82.11, 66.81, 63.85, 80.31, 50.17, 86.33, 95.32, 53.89, 63.44, 65.22, 69.14, 87.87, 93.81, 90.65, 58.96, 57.6, 60.46]\n"
     ]
    }
   ],
   "source": [
    "fabrica1 = []\n",
    "for i in range(100):\n",
    "    numero_aleatorio = round(random.uniform(50, 100), 2 )\n",
    "    fabrica1.append(numero_aleatorio)\n",
    "print(fabrica1)"
   ]
  },
  {
   "cell_type": "code",
   "execution_count": 5,
   "id": "8ffcdf8c-b534-4e5c-9146-3ec891d3841b",
   "metadata": {},
   "outputs": [
    {
     "name": "stdout",
     "output_type": "stream",
     "text": [
      "[53.48, 52.75, 65.86, 97.11, 69.16, 84.68, 72.23, 61.82, 87.62, 88.42, 92.4, 68.29, 79.65, 72.43, 76.14, 74.17, 91.99, 77.25, 84.14, 61.3, 90.42, 52.86, 70.37, 60.14, 82.15, 67.73, 75.89, 69.53, 89.56, 80.27, 52.38, 50.36, 93.8, 99.16, 54.71, 75.38, 79.8, 58.32, 73.61, 66.99, 96.47, 98.44, 62.38, 99.36, 80.34, 69.28, 85.03, 60.67, 96.47, 58.08, 71.85, 98.61, 74.47, 71.75, 80.4, 58.41, 83.37, 95.62, 93.82, 94.93, 52.76, 74.33, 82.74, 99.24, 81.17, 79.8, 55.97, 52.21, 65.34, 85.23, 89.37, 67.24, 94.15, 90.22, 63.21, 55.64, 97.5, 81.06, 96.25, 89.13, 97.39, 65.61, 64.49, 50.83, 67.89, 53.55, 71.81, 99.82, 72.75, 68.18, 66.09, 71.22, 72.21, 70.58, 81.73, 55.15, 75.88, 81.54, 64.99, 71.91]\n"
     ]
    }
   ],
   "source": [
    " fabrica2 = []\n",
    "for i in range(100):\n",
    "    numero_aleatorio2 = round(random.uniform(50, 100), 2 )\n",
    "    fabrica2.append(numero_aleatorio2)\n",
    "print(fabrica2)"
   ]
  },
  {
   "cell_type": "code",
   "execution_count": 6,
   "id": "d6ac5c48-fa73-4358-809c-8200ddc5e543",
   "metadata": {},
   "outputs": [
    {
     "ename": "ModuleNotFoundError",
     "evalue": "No module named 'matplotlib'",
     "output_type": "error",
     "traceback": [
      "\u001b[1;31m---------------------------------------------------------------------------\u001b[0m",
      "\u001b[1;31mModuleNotFoundError\u001b[0m                       Traceback (most recent call last)",
      "Cell \u001b[1;32mIn[6], line 2\u001b[0m\n\u001b[0;32m      1\u001b[0m \u001b[38;5;66;03m# libreria de python para graficar valores\u001b[39;00m\n\u001b[1;32m----> 2\u001b[0m \u001b[38;5;28;01mimport\u001b[39;00m \u001b[38;5;21;01mmatplotlib\u001b[39;00m\u001b[38;5;21;01m.\u001b[39;00m\u001b[38;5;21;01mpyplot\u001b[39;00m \u001b[38;5;28;01mas\u001b[39;00m \u001b[38;5;21;01mplt\u001b[39;00m\n",
      "\u001b[1;31mModuleNotFoundError\u001b[0m: No module named 'matplotlib'"
     ]
    }
   ],
   "source": [
    "# libreria de python para graficar valores\n",
    "import matplotlib.pyplot as plt"
   ]
  },
  {
   "cell_type": "code",
   "execution_count": 7,
   "id": "c1eb618d-cfd6-4cbf-8566-109544bb11e6",
   "metadata": {},
   "outputs": [
    {
     "ename": "NameError",
     "evalue": "name 'plt' is not defined",
     "output_type": "error",
     "traceback": [
      "\u001b[1;31m---------------------------------------------------------------------------\u001b[0m",
      "\u001b[1;31mNameError\u001b[0m                                 Traceback (most recent call last)",
      "Cell \u001b[1;32mIn[7], line 1\u001b[0m\n\u001b[1;32m----> 1\u001b[0m \u001b[43mplt\u001b[49m\u001b[38;5;241m.\u001b[39mhist(fabrica1)\n\u001b[0;32m      2\u001b[0m pip\u001b[38;5;241m.\u001b[39mtitle(\u001b[38;5;124m\"\u001b[39m\u001b[38;5;124mProduccion diaria de la fabrica 1\u001b[39m\u001b[38;5;124m\"\u001b[39m)\n",
      "\u001b[1;31mNameError\u001b[0m: name 'plt' is not defined"
     ]
    }
   ],
   "source": [
    "plt.hist(fabrica1)\n",
    "pip.title(\"Produccion diaria de la fabrica 1\")"
   ]
  },
  {
   "cell_type": "code",
   "execution_count": 8,
   "id": "6d38f71e-0ca3-40e7-b509-8f1b2d254165",
   "metadata": {},
   "outputs": [
    {
     "ename": "NameError",
     "evalue": "name 'plt' is not defined",
     "output_type": "error",
     "traceback": [
      "\u001b[1;31m---------------------------------------------------------------------------\u001b[0m",
      "\u001b[1;31mNameError\u001b[0m                                 Traceback (most recent call last)",
      "Cell \u001b[1;32mIn[8], line 1\u001b[0m\n\u001b[1;32m----> 1\u001b[0m \u001b[43mplt\u001b[49m\u001b[38;5;241m.\u001b[39mhist(fabrica2)\n\u001b[0;32m      2\u001b[0m pip\u001b[38;5;241m.\u001b[39mtitle(\u001b[38;5;124m\"\u001b[39m\u001b[38;5;124mProduccion diaria de la fabrica 2\u001b[39m\u001b[38;5;124m\"\u001b[39m)\n",
      "\u001b[1;31mNameError\u001b[0m: name 'plt' is not defined"
     ]
    }
   ],
   "source": [
    "plt.hist(fabrica2)\n",
    "pip.title(\"Produccion diaria de la fabrica 2\")"
   ]
  },
  {
   "cell_type": "code",
   "execution_count": null,
   "id": "b75cf3fc-4aa6-4eaa-b71b-fa22d72b735b",
   "metadata": {},
   "outputs": [],
   "source": [
    "media = mean(fabrica1)\n",
    "mediana = median(fabrica1)\n",
    "moda = mode(fabrica1)\n",
    "\n",
    "print(\"valores de la fabrica 1\")\n",
    "print(\"La media=\", media)\n",
    "print(\"La mediana es=\", mediana)\n",
    "print(\"La moda es =\", moda)"
   ]
  },
  {
   "cell_type": "code",
   "execution_count": null,
   "id": "d489ee23-3af8-4453-bf6c-ebea341da5fb",
   "metadata": {},
   "outputs": [],
   "source": [
    "media = mean(fabrica2)\n",
    "mediana = median(fabrica2)\n",
    "moda = mode(fabrica2)\n",
    "\n",
    "print(\"valores de la fabrica 2\")\n",
    "print(\"La media=\", media)\n",
    "print(\"La mediana es=\", mediana)\n",
    "print(\"La moda es =\", moda)"
   ]
  },
  {
   "cell_type": "code",
   "execution_count": 42,
   "id": "19a62a82-9c0f-4428-8ac2-f38278d3189e",
   "metadata": {},
   "outputs": [
    {
     "ename": "NameError",
     "evalue": "name 'plt' is not defined",
     "output_type": "error",
     "traceback": [
      "\u001b[1;31m---------------------------------------------------------------------------\u001b[0m",
      "\u001b[1;31mNameError\u001b[0m                                 Traceback (most recent call last)",
      "Cell \u001b[1;32mIn[42], line 3\u001b[0m\n\u001b[0;32m      1\u001b[0m \u001b[38;5;66;03m# generar 2 subplot de 1 renglon por 2 columnas para desplegar los 2 histogramas,\u001b[39;00m\n\u001b[0;32m      2\u001b[0m \u001b[38;5;66;03m# una a lado de la otra\u001b[39;00m\n\u001b[1;32m----> 3\u001b[0m fig, (ax1, ax2) \u001b[38;5;241m=\u001b[39m \u001b[43mplt\u001b[49m\u001b[38;5;241m.\u001b[39msubplots(nrows \u001b[38;5;241m=\u001b[39m\u001b[38;5;241m1\u001b[39m, ncols\u001b[38;5;241m=\u001b[39m\u001b[38;5;241m2\u001b[39m)\n",
      "\u001b[1;31mNameError\u001b[0m: name 'plt' is not defined"
     ]
    }
   ],
   "source": [
    "# generar 2 subplot de 1 renglon por 2 columnas para desplegar los 2 histogramas,\n",
    "# una a lado de la otra\n",
    "fig, (ax1, ax2) = plt.subplots(nrows =1, ncols=2)"
   ]
  },
  {
   "cell_type": "code",
   "execution_count": null,
   "id": "6bc68bd7-9d67-4a99-9b9b-5ba6e88c16b7",
   "metadata": {},
   "outputs": [],
   "source": [
    "# generar 2 subplot de 1 renglon por 2 columnas para desplegar los 2 histogramas,\n",
    "# una a lado de la otra\n",
    "fig, (ax1, ax2) = plt.subplots(nrows =1, ncols=2, figsize=(10, 5))\n",
    "ax1.hist(fabrica1)\n",
    "ax2.hist(fabrica2)\n",
    "plt.show()"
   ]
  },
  {
   "cell_type": "code",
   "execution_count": null,
   "id": "97371e5d-e3a5-42b8-90a6-0f20ad373243",
   "metadata": {},
   "outputs": [],
   "source": [
    "#valor minimo, maximo, rango\n",
    "\n",
    "\n",
    "media1 = mean(fabrica1)\n",
    "mediana1 = median(fabrica1)\n",
    "moda1 = mode(fabrica1) "
   ]
  },
  {
   "cell_type": "code",
   "execution_count": 43,
   "id": "405261f3-4f8a-47e2-9312-613186cc18dd",
   "metadata": {},
   "outputs": [
    {
     "ename": "NameError",
     "evalue": "name 'plt' is not defined",
     "output_type": "error",
     "traceback": [
      "\u001b[1;31m---------------------------------------------------------------------------\u001b[0m",
      "\u001b[1;31mNameError\u001b[0m                                 Traceback (most recent call last)",
      "Cell \u001b[1;32mIn[43], line 1\u001b[0m\n\u001b[1;32m----> 1\u001b[0m \u001b[43mplt\u001b[49m\u001b[38;5;241m.\u001b[39mhist(fabrica1, bins\u001b[38;5;241m=\u001b[39m\u001b[38;5;241m10\u001b[39m, alpha\u001b[38;5;241m=\u001b[39m\u001b[38;5;241m0.4\u001b[39m, color\u001b[38;5;241m=\u001b[39m\u001b[38;5;124m'\u001b[39m\u001b[38;5;124mb\u001b[39m\u001b[38;5;124m'\u001b[39m, edgecolor \u001b[38;5;241m=\u001b[39m \u001b[38;5;124m\"\u001b[39m\u001b[38;5;124mBlack\u001b[39m\u001b[38;5;124m\"\u001b[39m)\n\u001b[0;32m      2\u001b[0m plt\u001b[38;5;241m.\u001b[39maxvline(media1, color\u001b[38;5;241m=\u001b[39m\u001b[38;5;124m'\u001b[39m\u001b[38;5;124mb\u001b[39m\u001b[38;5;124m'\u001b[39m, linestyle \u001b[38;5;241m=\u001b[39m\u001b[38;5;124m'\u001b[39m\u001b[38;5;124mdashed\u001b[39m\u001b[38;5;124m'\u001b[39m, linewidth\u001b[38;5;241m=\u001b[39m\u001b[38;5;241m2\u001b[39m, label\u001b[38;5;241m=\u001b[39m\u001b[38;5;124m'\u001b[39m\u001b[38;5;124mMedia\u001b[39m\u001b[38;5;124m'\u001b[39m)\n\u001b[0;32m      3\u001b[0m plt\u001b[38;5;241m.\u001b[39maxvline(mediana1, color\u001b[38;5;241m=\u001b[39m\u001b[38;5;124m'\u001b[39m\u001b[38;5;124mr\u001b[39m\u001b[38;5;124m'\u001b[39m, linestyle \u001b[38;5;241m=\u001b[39m\u001b[38;5;124m'\u001b[39m\u001b[38;5;124mdashed\u001b[39m\u001b[38;5;124m'\u001b[39m, linewidth\u001b[38;5;241m=\u001b[39m\u001b[38;5;241m2\u001b[39m, label\u001b[38;5;241m=\u001b[39m\u001b[38;5;124m'\u001b[39m\u001b[38;5;124mMediana\u001b[39m\u001b[38;5;124m'\u001b[39m)\n",
      "\u001b[1;31mNameError\u001b[0m: name 'plt' is not defined"
     ]
    }
   ],
   "source": [
    "plt.hist(fabrica1, bins=10, alpha=0.2, color='b', edgecolor = \"Black\")\n",
    "plt.axvline(media1, color='b', linestyle ='dashed', linewidth=2, label='Media')\n",
    "plt.axvline(mediana1, color='r', linestyle ='dashed', linewidth=2, label='Mediana')\n",
    "plt.axvline(moda1, color='y', linestyle ='dashed', linewidth=2, label='Moda') \n",
    "plt.xlabel('valor')\n",
    "plt.ylabel('Frecuencia')\n",
    "plt.title(\"produccion diarias de la fabrica 1\")\n",
    "plt.legend()\n",
    "plt.show()"
   ]
  },
  {
   "cell_type": "code",
   "execution_count": null,
   "id": "c7685eab-84a7-4c81-a9cc-e815575a1db2",
   "metadata": {},
   "outputs": [],
   "source": [
    "#valor minimo, maximo, rango\n",
    "\n",
    "\n",
    "media2 = mean(fabrica2)\n",
    "mediana2 = median(fabrica2)\n",
    "moda2 = mode(fabrica2) \n",
    "\n",
    "plt.hist(fabrica2, bins=10, alpha=0.4, color='b', edgecolor = \"Black\")\n",
    "plt.axvline(media2, color='b', linestyle ='dashed', linewidth=2, label='Media')\n",
    "plt.axvline(mediana2, color='r', linestyle ='dashed', linewidth=2, label='Mediana')\n",
    "plt.axvline(moda2, color='y', linestyle ='dashed', linewidth=2, label='Moda') \n",
    "plt.xlabel('valor')\n",
    "plt.ylabel('Frecuencia')\n",
    "plt.title(\"produccion diarias de la fabrica 2\")\n",
    "plt.legend()\n",
    "plt.show() "
   ]
  },
  {
   "cell_type": "markdown",
   "id": "9258e955-9899-46e4-aafb-206fd0311157",
   "metadata": {},
   "source": [
    "## Maximo, minimo y Rango"
   ]
  },
  {
   "cell_type": "code",
   "execution_count": 11,
   "id": "350780c0-085b-4cc2-994a-48686d83889f",
   "metadata": {},
   "outputs": [
    {
     "name": "stdout",
     "output_type": "stream",
     "text": [
      " Estadistica descriptiva de la fabrica 1 \n",
      " media = 74.4469 \n",
      " Mediana= 73.24 \n",
      " Moda= 53.77 \n",
      " Maximo= 99.77 \n",
      " Minimo= 50.08 \n",
      " Rango= 49.69\n"
     ]
    }
   ],
   "source": [
    "maximo = max(fabrica1)\n",
    "minimo = min(fabrica1)\n",
    "rango = maximo - minimo\n",
    "media = mean(fabrica1)\n",
    "mediana = median(fabrica1)\n",
    "moda = mode(fabrica1)\n",
    "\n",
    "print(\" Estadistica descriptiva de la fabrica 1 \\n\", \"Media =\", media, \"\\n Mediana=\", mediana, \"\\n Moda=\", moda, \"\\n Maximo=\", maximo, \"\\n Minimo=\", minimo, \"\\n Rango=\", rango)"
   ]
  },
  {
   "cell_type": "code",
   "execution_count": 12,
   "id": "9d3b16c6-0c16-4813-9ee9-2d30f96c4e46",
   "metadata": {},
   "outputs": [
    {
     "name": "stdout",
     "output_type": "stream",
     "text": [
      " Estadistica descriptiva de la fabrica 2 \n",
      " Media = 75.6025 \n",
      " Mediana= 74.25 \n",
      " Moda= 79.8 \n",
      " Maximo= 99.82 \n",
      " Minimo= 50.36 \n",
      " Rango= 49.69\n"
     ]
    }
   ],
   "source": [
    "maximo2 = max(fabrica2)\n",
    "minimo2 = min(fabrica2)\n",
    "rango2 = maximo - minimo\n",
    "media2 = mean(fabrica2)\n",
    "mediana2 = median(fabrica2)\n",
    "moda2 = mode(fabrica2)\n",
    "\n",
    "print(\" Estadistica descriptiva de la fabrica 2 \\n\", \"Media =\", media2, \"\\n Mediana=\", mediana2, \"\\n Moda=\", moda2, \"\\n Maximo=\", maximo2, \"\\n Minimo=\", minimo2, \"\\n Rango=\", rango2)"
   ]
  },
  {
   "cell_type": "markdown",
   "id": "cd689949-4a67-4f17-89f8-0948ccf71244",
   "metadata": {},
   "source": [
    "## Dispersión de los datos"
   ]
  },
  {
   "cell_type": "code",
   "execution_count": 13,
   "id": "a5b5733b-429d-4b39-bf41-711b35ac8923",
   "metadata": {},
   "outputs": [
    {
     "name": "stdout",
     "output_type": "stream",
     "text": [
      "La desviacion estandar de la fabrica 1 es= 15.494515269095785\n"
     ]
    }
   ],
   "source": [
    "desviacion_estandar_fabrica1 = stdev(fabrica1)\n",
    "print(\"La desviacion estandar de la fabrica 1 es=\", desviacion_estandar_fabrica1)"
   ]
  },
  {
   "cell_type": "code",
   "execution_count": 14,
   "id": "e6b5f2d0-5021-4edb-9c1c-0b50538d0303",
   "metadata": {},
   "outputs": [
    {
     "name": "stdout",
     "output_type": "stream",
     "text": [
      "La desviacion estandar de la fabrica 2 es= 14.324771465027027\n"
     ]
    }
   ],
   "source": [
    "desviacion_estandar_fabrica2 = stdev(fabrica2)\n",
    "print(\"La desviacion estandar de la fabrica 2 es=\", desviacion_estandar_fabrica2)"
   ]
  },
  {
   "cell_type": "code",
   "execution_count": null,
   "id": "dd612898-27b5-4331-9c28-0a70cbda32f4",
   "metadata": {},
   "outputs": [],
   "source": [
    "plt.figure(figsize = (10,8) )\n",
    "plt.hist(fabrica1, bins=10, alpha=0.2, color='b', edgecolor = \"Black\")\n",
    "plt.axvline(media1, color='b', linestyle ='dashed', linewidth=2, label=f'Media={media1:.2f}')\n",
    "plt.axvline(mediana1, color='r', linestyle ='dashed', linewidth=2, label=f'Mediana={mediana1:.2f}')\n",
    "plt.axvline(moda1, color='y', linestyle ='dashed', linewidth=2, label=f'Moda={moda1:.2f}') \n",
    "\n",
    "plt.axvline(media1 - desviacion_estandar_fabrica1, color='black', linestyle ='dashed', \n",
    "            linewidth=2, label=f'Desv. Estandar={desviacion_estandar_fabrica1:.2f}')\n",
    "plt.axvline(media1 + desviacion_estandar_fabrica1, color='black', linestyle ='dashed', \n",
    "            linewidth=2)\n",
    "\n",
    "plt.xlabel('valor')\n",
    "plt.ylabel('Frecuencia')\n",
    "plt.title(\"produccion diarias de la fabrica 1\")\n",
    "plt.legend()\n",
    "plt.show()"
   ]
  },
  {
   "cell_type": "code",
   "execution_count": null,
   "id": "9f5d5fbb-fbdd-439e-a15f-289856a52bdb",
   "metadata": {},
   "outputs": [],
   "source": [
    "plt.figure(figsize = (10,7) )\n",
    "plt.hist(fabrica2, bins=10, alpha=0.2, color='b', edgecolor = \"Black\")\n",
    "plt.axvline(media2, color='b', linestyle ='dashed', linewidth=2, label=f'Media={media2:.2f}')\n",
    "plt.axvline(mediana2, color='r', linestyle ='dashed', linewidth=2, label=f'Mediana={mediana2:.2f}')\n",
    "plt.axvline(moda2, color='y', linestyle ='dashed', linewidth=2, label=f'Moda={moda2:.2f}') \n",
    "\n",
    "plt.axvline(media2 - desviacion_estandar_fabrica2, color='black', linestyle ='dashed', \n",
    "            linewidth=2, label=f'Desv. Estandar={desviacion_estandar_fabrica2:.2f}')\n",
    "plt.axvline(media2 + desviacion_estandar_fabrica2, color='black', linestyle ='dashed', \n",
    "            linewidth=2)\n",
    "\n",
    "plt.xlabel('valor')\n",
    "plt.ylabel('Frecuencia')\n",
    "plt.title(\"produccion diarias de la fabrica 2\")\n",
    "plt.legend()\n",
    "plt.show()"
   ]
  },
  {
   "cell_type": "markdown",
   "id": "0a3aa6fc-c163-495e-aa40-7be1b94de9b4",
   "metadata": {},
   "source": [
    "## tablas de frecuencias "
   ]
  },
  {
   "cell_type": "code",
   "execution_count": 4,
   "id": "52acadb5-5b60-4355-9e19-0fc2a9b3d71e",
   "metadata": {},
   "outputs": [
    {
     "name": "stdout",
     "output_type": "stream",
     "text": [
      "[54, 63, 44, 58, 22, 61, 30, 19, 62, 59, 41, 67, 18, 64, 44, 45, 23, 61, 67, 26, 31, 59, 50, 40, 60, 41, 29, 40, 45, 19, 70, 28, 46, 21, 36, 27, 63, 26, 66, 62, 40, 19, 70, 55, 31, 41, 53, 51, 69, 34, 35, 43, 43, 20, 22, 51, 30, 49, 48, 67, 52, 47, 66, 55, 63, 31, 44, 28, 53, 41, 27, 48, 61, 31, 19, 52, 65, 31, 70, 57, 53, 52, 69, 43, 21, 48, 34, 19, 34, 20, 70, 42, 24, 43, 28, 21, 53, 34, 40, 68]\n"
     ]
    }
   ],
   "source": [
    "# generar una lista vacia que representa la edad de un grupo de personas\n",
    "edades = []\n",
    "\n",
    "for i in range(100):\n",
    "    numero_aletorio = random.randint(18, 70)\n",
    "    edades.append(numero_aletorio)\n",
    "print(edades)"
   ]
  },
  {
   "cell_type": "code",
   "execution_count": null,
   "id": "232c4aee-0bc4-47f5-aaa1-d2b3b3f2d365",
   "metadata": {},
   "outputs": [],
   "source": [
    "import pandas as pd"
   ]
  },
  {
   "cell_type": "code",
   "execution_count": 6,
   "id": "7d4ea1c8-ddc4-4cb9-abe1-60150d972491",
   "metadata": {},
   "outputs": [
    {
     "ename": "NameError",
     "evalue": "name 'pd' is not defined",
     "output_type": "error",
     "traceback": [
      "\u001b[1;31m---------------------------------------------------------------------------\u001b[0m",
      "\u001b[1;31mNameError\u001b[0m                                 Traceback (most recent call last)",
      "Cell \u001b[1;32mIn[6], line 1\u001b[0m\n\u001b[1;32m----> 1\u001b[0m df_edades \u001b[38;5;241m=\u001b[39m \u001b[43mpd\u001b[49m\u001b[38;5;241m.\u001b[39mDataFrame(edades, columns\u001b[38;5;241m=\u001b[39m[\u001b[38;5;124m\"\u001b[39m\u001b[38;5;124mEdad\u001b[39m\u001b[38;5;124m\"\u001b[39m])\n\u001b[0;32m      2\u001b[0m df_edades\n",
      "\u001b[1;31mNameError\u001b[0m: name 'pd' is not defined"
     ]
    }
   ],
   "source": [
    "df_edades = pd.DataFrame(edades, columns=[\"Edad\"])\n",
    "df_edades"
   ]
  },
  {
   "cell_type": "code",
   "execution_count": 7,
   "id": "d1b5d3f3-2646-473a-a3f3-30e71097ea63",
   "metadata": {},
   "outputs": [
    {
     "ename": "NameError",
     "evalue": "name 'df_edades' is not defined",
     "output_type": "error",
     "traceback": [
      "\u001b[1;31m---------------------------------------------------------------------------\u001b[0m",
      "\u001b[1;31mNameError\u001b[0m                                 Traceback (most recent call last)",
      "Cell \u001b[1;32mIn[7], line 2\u001b[0m\n\u001b[0;32m      1\u001b[0m \u001b[38;5;66;03m# Calcular la tabla de distribucion de frecuencias\u001b[39;00m\n\u001b[1;32m----> 2\u001b[0m tabla_frecuencias \u001b[38;5;241m=\u001b[39m \u001b[43mdf_edades\u001b[49m[\u001b[38;5;124m\"\u001b[39m\u001b[38;5;124mEdad\u001b[39m\u001b[38;5;124m\"\u001b[39m]\u001b[38;5;241m.\u001b[39mvalue_counts()\n\u001b[0;32m      3\u001b[0m tabla_frecuencias\n",
      "\u001b[1;31mNameError\u001b[0m: name 'df_edades' is not defined"
     ]
    }
   ],
   "source": [
    "# Calcular la tabla de distribucion de frecuencias\n",
    "tabla_frecuencias = df_edades[\"Edad\"].value_counts().reset_index()\n",
    "tabla_frecuencias.columns = [\"Edad\", \"Frecuencia\"]\n",
    "tabla_frecuencias = tabla_frecuencias.sort_values(by = \"Edad\")\n",
    "tabla_frecuencias"
   ]
  },
  {
   "cell_type": "code",
   "execution_count": 8,
   "id": "63bfa626-7258-4cec-8591-644ad5203a16",
   "metadata": {},
   "outputs": [
    {
     "ename": "NameError",
     "evalue": "name 'tabla_frecuencias' is not defined",
     "output_type": "error",
     "traceback": [
      "\u001b[1;31m---------------------------------------------------------------------------\u001b[0m",
      "\u001b[1;31mNameError\u001b[0m                                 Traceback (most recent call last)",
      "Cell \u001b[1;32mIn[8], line 1\u001b[0m\n\u001b[1;32m----> 1\u001b[0m tabla_frecuencias[\u001b[38;5;124m\"\u001b[39m\u001b[38;5;124mFrec. Relativa\u001b[39m\u001b[38;5;124m\"\u001b[39m] \u001b[38;5;241m=\u001b[39m \u001b[43mtabla_frecuencias\u001b[49m[\u001b[38;5;124m\"\u001b[39m\u001b[38;5;124mFrecuencia\u001b[39m\u001b[38;5;124m\"\u001b[39m] \u001b[38;5;241m/\u001b[39m \u001b[38;5;241m100\u001b[39m\n",
      "\u001b[1;31mNameError\u001b[0m: name 'tabla_frecuencias' is not defined"
     ]
    }
   ],
   "source": [
    "tabla_frecuencias[\"Frec. Relativa\"] = tabla_frecuencias[\"Frecuencia\"] / 100"
   ]
  },
  {
   "cell_type": "code",
   "execution_count": null,
   "id": "f3175a44-cec1-4053-9e2a-241cada2f076",
   "metadata": {},
   "outputs": [],
   "source": [
    "tabla_frecuencias"
   ]
  },
  {
   "cell_type": "code",
   "execution_count": null,
   "id": "b4e620a4-af99-43ed-821e-e30b09b0c8cd",
   "metadata": {},
   "outputs": [],
   "source": [
    "# Calcular la frecuencia porcentual\n",
    "tabla_frecuencias[\"Frec. Porcentual\"] = tabla_frecuencias[\"Frecuencia\"] / 100 *100\n",
    "tabla_frecuencias"
   ]
  },
  {
   "cell_type": "code",
   "execution_count": null,
   "id": "8dc87485-4656-464e-b265-b9ede9f983b2",
   "metadata": {},
   "outputs": [],
   "source": [
    "# Calcular la frecuencia acomulada\n",
    "# Agregamos nueva columna con el calculo de la frecuencia acomulada\n",
    "tabla_frecuencias[\"Frec. Acumulada\"] = tabla_frecuencias[\"Frecuencia\"].cumsum()\n",
    "tabla_frecuencias"
   ]
  },
  {
   "cell_type": "markdown",
   "id": "5f274050-0f5f-4231-8a3e-3e7d2451851a",
   "metadata": {},
   "source": [
    "## Regla de sturges\n",
    "1-. Es una regla que sirve para calcular el numero de clases o intervalos idoneo, en los que se debe dividir un conjunto de datos\n",
    "\n",
    "$\n",
    "c = 1 + Log _2(N) \n",
    "$"
   ]
  },
  {
   "cell_type": "code",
   "execution_count": null,
   "id": "89e0cbd5-67fe-4ae1-b98d-5320c5f8487c",
   "metadata": {},
   "outputs": [],
   "source": [
    "# Libreria de funciones matematicas\n",
    "import math"
   ]
  },
  {
   "cell_type": "code",
   "execution_count": 9,
   "id": "bafb8446-5257-46b9-8694-d10b31639987",
   "metadata": {},
   "outputs": [
    {
     "name": "stdout",
     "output_type": "stream",
     "text": [
      "[54, 63, 44, 58, 22, 61, 30, 19, 62, 59, 41, 67, 18, 64, 44, 45, 23, 61, 67, 26, 31, 59, 50, 40, 60, 41, 29, 40, 45, 19, 70, 28, 46, 21, 36, 27, 63, 26, 66, 62, 40, 19, 70, 55, 31, 41, 53, 51, 69, 34, 35, 43, 43, 20, 22, 51, 30, 49, 48, 67, 52, 47, 66, 55, 63, 31, 44, 28, 53, 41, 27, 48, 61, 31, 19, 52, 65, 31, 70, 57, 53, 52, 69, 43, 21, 48, 34, 19, 34, 20, 70, 42, 24, 43, 28, 21, 53, 34, 40, 68]\n"
     ]
    }
   ],
   "source": [
    "print(edades)"
   ]
  },
  {
   "cell_type": "code",
   "execution_count": null,
   "id": "2fd665c3-2c8a-4d77-93c2-2dd2365b3e11",
   "metadata": {},
   "outputs": [],
   "source": [
    "df_edades_sturges = pd.DataFrame( {\"Edad\": edades})\n",
    "df_edades_sturges"
   ]
  },
  {
   "cell_type": "code",
   "execution_count": 10,
   "id": "5fcf44f8-6a09-41e5-a7a5-acd1ab49b476",
   "metadata": {},
   "outputs": [
    {
     "ename": "NameError",
     "evalue": "name 'math' is not defined",
     "output_type": "error",
     "traceback": [
      "\u001b[1;31m---------------------------------------------------------------------------\u001b[0m",
      "\u001b[1;31mNameError\u001b[0m                                 Traceback (most recent call last)",
      "Cell \u001b[1;32mIn[10], line 3\u001b[0m\n\u001b[0;32m      1\u001b[0m \u001b[38;5;66;03m# Calcular el numero de intervalos o clases utilizando la regla de Sturges\u001b[39;00m\n\u001b[0;32m      2\u001b[0m n \u001b[38;5;241m=\u001b[39m \u001b[38;5;28mlen\u001b[39m(edades)\n\u001b[1;32m----> 3\u001b[0m k \u001b[38;5;241m=\u001b[39m \u001b[38;5;28mint\u001b[39m( \u001b[38;5;241m1\u001b[39m \u001b[38;5;241m+\u001b[39m \u001b[43mmath\u001b[49m\u001b[38;5;241m.\u001b[39mlog2(n))\n\u001b[0;32m      5\u001b[0m \u001b[38;5;28mprint\u001b[39m(\u001b[38;5;124m\"\u001b[39m\u001b[38;5;124mValor de n=\u001b[39m\u001b[38;5;124m\"\u001b[39m, n, \u001b[38;5;124m\"\u001b[39m\u001b[38;5;124mk o numero de intervalos o clases =\u001b[39m\u001b[38;5;124m\"\u001b[39m, k)\n",
      "\u001b[1;31mNameError\u001b[0m: name 'math' is not defined"
     ]
    }
   ],
   "source": [
    "# Calcular el numero de intervalos o clases utilizando la regla de Sturges\n",
    "n = len(edades)\n",
    "k = int( 1 + math.log2(n))\n",
    "\n",
    "print(\"Valor de n=\", n, \"\\n Valor de k o numero de intervalos o clases =\", k)"
   ]
  },
  {
   "cell_type": "code",
   "execution_count": null,
   "id": "422bb0bd-777b-4ec7-8fce-40ec2b194c66",
   "metadata": {},
   "outputs": [],
   "source": [
    "plt.hist(edades, alpha=0.5, rwidth = 0.95)\n",
    "plt.title(\"histograma de edades basado en valores estandar de matplotlib\")\n",
    "plt.xlabel(\"Edades\")\n",
    "plt.ylabel(\"Frecuencia\")"
   ]
  },
  {
   "cell_type": "code",
   "execution_count": null,
   "id": "185f1064-5fc5-4efd-bd40-cfb8dddbaa26",
   "metadata": {},
   "outputs": [],
   "source": [
    "tabla_frec_sturges = pd.cut( df_edades_sturges[\"Edad\"], bins = k).value_counts().reset_index()\n",
    "tabla_frec_sturges"
   ]
  },
  {
   "cell_type": "code",
   "execution_count": null,
   "id": "e24328a2-a5ed-457f-9e07-e1656f2977c9",
   "metadata": {},
   "outputs": [],
   "source": [
    "tabla_frec_sturges.columns = [\"Clase\", \"Frecuencia\"]\n",
    "tabla_frec_sturges"
   ]
  },
  {
   "cell_type": "code",
   "execution_count": null,
   "id": "812b2c57-3819-4a16-9842-72097c617784",
   "metadata": {},
   "outputs": [],
   "source": [
    "# Ordenar la tabla de frecuencias por la clase o el intervalo\n",
    "tabla_frec_sturges = tabla_frec_sturges.sort_values(by =\"Clase\")\n",
    "tabla_frec_sturges"
   ]
  },
  {
   "cell_type": "code",
   "execution_count": null,
   "id": "e0bffe38-78bf-4dbd-bd54-82bf6653f93b",
   "metadata": {},
   "outputs": [],
   "source": [
    "tabla_frec_sturges[\"Frec. relativa\"] = tabla_frec_sturges[\"Frecuencia\"] / n\n",
    "tabla_frec_sturges[\"Frec. porcentual\"] = tabla_frec_sturges[\"Frecuencia\"] / n * 100\n",
    "tabla_frec_sturges[\"Frec. acomulada\"] = tabla_frec_sturges[\"Frecuencia\"].cumsum()"
   ]
  },
  {
   "cell_type": "code",
   "execution_count": null,
   "id": "7931179b-8e35-49ec-8696-a77ceccd9621",
   "metadata": {},
   "outputs": [],
   "source": [
    "tabla_frec_sturges"
   ]
  },
  {
   "cell_type": "code",
   "execution_count": null,
   "id": "e6fe9e66-936f-4495-b8ae-29493753fd2f",
   "metadata": {},
   "outputs": [],
   "source": [
    "plt.hist(df_edades_sturges[\"Edad\"], bins=k, alpha=0.5, rwidth=.95)\n",
    "plt.title(\"Histograma de edades basado en la regla de Sturges\")\n",
    "plt.xlabel(\"Edades\")\n",
    "plt.ylabel(\"Frecuencia\")"
   ]
  },
  {
   "cell_type": "code",
   "execution_count": null,
   "id": "95b9a158-b6f9-459f-95dc-95f9f3cb58e3",
   "metadata": {},
   "outputs": [],
   "source": []
  },
  {
   "cell_type": "code",
   "execution_count": null,
   "id": "c8fe98bd-aa3e-4d8d-a4a0-588993a6d926",
   "metadata": {},
   "outputs": [],
   "source": []
  }
 ],
 "metadata": {
  "kernelspec": {
   "display_name": "Python 3 (ipykernel)",
   "language": "python",
   "name": "python3"
  },
  "language_info": {
   "codemirror_mode": {
    "name": "ipython",
    "version": 3
   },
   "file_extension": ".py",
   "mimetype": "text/x-python",
   "name": "python",
   "nbconvert_exporter": "python",
   "pygments_lexer": "ipython3",
   "version": "3.12.2"
  }
 },
 "nbformat": 4,
 "nbformat_minor": 5
}
