{
 "cells": [
  {
   "cell_type": "code",
   "execution_count": 5,
   "id": "a84fbf6a-9680-4c93-94a8-4ac776b37e61",
   "metadata": {},
   "outputs": [],
   "source": [
    "#Probabilidad y estadistica\n",
    "###Facilitador: Jose Gabriel Rodriguez Rivas\n",
    "### Alumno: Jesus Adrian Ramirez Pacheco"
   ]
  },
  {
   "cell_type": "code",
   "execution_count": 6,
   "id": "0c7c33fd-64c9-43f7-a79c-ab40ec600a5c",
   "metadata": {},
   "outputs": [],
   "source": [
    "from statistics import *"
   ]
  },
  {
   "cell_type": "markdown",
   "id": "eaa3d6cc-59e2-439a-b5fe-80daaa153141",
   "metadata": {},
   "source": [
    "## Ejemplo 3: Histogramas de 2 grupos\n",
    "1. En este ejemplo generamos 100 numeros aleatorios reales que representa la produccion diaria de 100 telares (medidas en metros)\n",
    "2. Generar otra lista con la produccion de 100 telares para una segunda fabrica\n",
    "3. Con esta listas de valores se pretende determinar las medidas de tendencia central, es decir, la media, la moda, la mediana, la desviacion estandar.\n",
    "4. Graficar un histograma para cada fabrica."
   ]
  },
  {
   "cell_type": "code",
   "execution_count": 7,
   "id": "6246eb0d-6e3e-4ea5-ade3-3e83f83a5036",
   "metadata": {},
   "outputs": [],
   "source": [
    "# Libreria para generar numeros aleatorios \n",
    "import random\n"
   ]
  },
  {
   "cell_type": "code",
   "execution_count": 8,
   "id": "f7f70bcb-f5c0-4346-b09a-fb9ffb56e1d3",
   "metadata": {},
   "outputs": [
    {
     "name": "stdout",
     "output_type": "stream",
     "text": [
      "[65.27, 92.69, 88.64, 88.35, 88.34, 67.43, 77.71, 67.23, 94.45, 62.98, 58.01, 96.02, 57.03, 77.14, 52.27, 89.7, 51.32, 77.72, 60.86, 70.91, 69.88, 62.96, 60.22, 94.21, 61.31, 79.97, 82.43, 81.57, 93.88, 73.42, 75.75, 91.84, 68.04, 93.97, 93.03, 56.67, 87.28, 61.3, 80.95, 80.18, 84.98, 57.48, 56.75, 78.63, 84.71, 62.66, 54.67, 71.42, 68.11, 85.2, 99.78, 66.2, 67.63, 56.07, 80.83, 96.15, 54.83, 62.21, 59.08, 72.5, 63.51, 56.61, 85.29, 86.78, 71.64, 78.39, 67.07, 55.55, 93.05, 87.12, 67.08, 85.97, 75.52, 99.96, 51.67, 60.87, 63.78, 89.83, 90.4, 95.92, 53.77, 83.21, 84.55, 74.36, 53.93, 97.58, 69.13, 82.42, 58.57, 78.71, 92.37, 95.0, 89.91, 79.22, 73.25, 71.97, 83.61, 93.94, 88.1, 69.36]\n"
     ]
    }
   ],
   "source": [
    "fabrica1 = []\n",
    "for i in range(100):\n",
    "    numero_aleatorio = round(random.uniform(50, 100), 2 )\n",
    "    fabrica1.append(numero_aleatorio)\n",
    "print(fabrica1)"
   ]
  },
  {
   "cell_type": "code",
   "execution_count": 9,
   "id": "8ffcdf8c-b534-4e5c-9146-3ec891d3841b",
   "metadata": {},
   "outputs": [
    {
     "name": "stdout",
     "output_type": "stream",
     "text": [
      "[75.41, 97.16, 67.76, 87.84, 58.09, 66.72, 50.87, 71.77, 72.35, 72.04, 52.72, 83.95, 61.22, 66.18, 61.99, 61.45, 75.26, 72.69, 75.52, 72.26, 99.31, 50.19, 53.8, 62.96, 67.5, 97.74, 78.6, 62.87, 88.61, 68.26, 51.47, 74.48, 60.62, 70.02, 60.26, 68.07, 99.07, 89.82, 80.97, 52.42, 51.37, 98.21, 90.2, 80.8, 99.15, 79.84, 58.0, 70.42, 98.87, 64.72, 50.43, 71.46, 75.22, 94.97, 64.45, 75.46, 51.6, 59.84, 89.62, 66.39, 94.79, 68.94, 77.05, 66.5, 61.39, 73.16, 53.48, 70.54, 86.06, 72.04, 66.85, 71.77, 63.78, 76.72, 90.38, 74.95, 67.19, 51.2, 73.97, 78.83, 50.75, 75.18, 98.7, 73.3, 59.8, 60.1, 83.17, 52.2, 67.96, 66.99, 53.27, 72.82, 89.94, 96.37, 61.78, 72.2, 56.51, 88.42, 60.75, 76.96]\n"
     ]
    }
   ],
   "source": [
    " fabrica2 = []\n",
    "for i in range(100):\n",
    "    numero_aleatorio2 = round(random.uniform(50, 100), 2 )\n",
    "    fabrica2.append(numero_aleatorio2)\n",
    "print(fabrica2)"
   ]
  },
  {
   "cell_type": "code",
   "execution_count": 10,
   "id": "d6ac5c48-fa73-4358-809c-8200ddc5e543",
   "metadata": {},
   "outputs": [
    {
     "ename": "ModuleNotFoundError",
     "evalue": "No module named 'matplotlib'",
     "output_type": "error",
     "traceback": [
      "\u001b[1;31m---------------------------------------------------------------------------\u001b[0m",
      "\u001b[1;31mModuleNotFoundError\u001b[0m                       Traceback (most recent call last)",
      "Cell \u001b[1;32mIn[10], line 2\u001b[0m\n\u001b[0;32m      1\u001b[0m \u001b[38;5;66;03m# libreria de python para graficar valores\u001b[39;00m\n\u001b[1;32m----> 2\u001b[0m \u001b[38;5;28;01mimport\u001b[39;00m \u001b[38;5;21;01mmatplotlib\u001b[39;00m\u001b[38;5;21;01m.\u001b[39;00m\u001b[38;5;21;01mpyplot\u001b[39;00m \u001b[38;5;28;01mas\u001b[39;00m \u001b[38;5;21;01mplt\u001b[39;00m\n",
      "\u001b[1;31mModuleNotFoundError\u001b[0m: No module named 'matplotlib'"
     ]
    }
   ],
   "source": [
    "# libreria de python para graficar valores\n",
    "import matplotlib.pyplot as plt"
   ]
  },
  {
   "cell_type": "code",
   "execution_count": null,
   "id": "c1eb618d-cfd6-4cbf-8566-109544bb11e6",
   "metadata": {},
   "outputs": [],
   "source": [
    "plt.hist(fabrica1)\n",
    "pip.title(\"Produccion diaria de la fabrica 1\")"
   ]
  },
  {
   "cell_type": "code",
   "execution_count": 13,
   "id": "6d38f71e-0ca3-40e7-b509-8f1b2d254165",
   "metadata": {},
   "outputs": [
    {
     "ename": "NameError",
     "evalue": "name 'plt' is not defined",
     "output_type": "error",
     "traceback": [
      "\u001b[1;31m---------------------------------------------------------------------------\u001b[0m",
      "\u001b[1;31mNameError\u001b[0m                                 Traceback (most recent call last)",
      "Cell \u001b[1;32mIn[13], line 1\u001b[0m\n\u001b[1;32m----> 1\u001b[0m \u001b[43mplt\u001b[49m\u001b[38;5;241m.\u001b[39mhist(fabrica2)\n\u001b[0;32m      2\u001b[0m pip\u001b[38;5;241m.\u001b[39mtitle(\u001b[38;5;124m\"\u001b[39m\u001b[38;5;124mProduccion diaria de la fabrica 2\u001b[39m\u001b[38;5;124m\"\u001b[39m)\n",
      "\u001b[1;31mNameError\u001b[0m: name 'plt' is not defined"
     ]
    }
   ],
   "source": [
    "plt.hist(fabrica2)\n",
    "pip.title(\"Produccion diaria de la fabrica 2\")"
   ]
  },
  {
   "cell_type": "code",
   "execution_count": null,
   "id": "b75cf3fc-4aa6-4eaa-b71b-fa22d72b735b",
   "metadata": {},
   "outputs": [],
   "source": [
    "media = mean(fabrica1)\n",
    "mediana = median(fabrica1)\n",
    "moda = mode(fabrica1)\n",
    "\n",
    "print(\"valores de la fabrica 1\")\n",
    "print(\"La media=\", media)\n",
    "print(\"La mediana es=\", mediana)\n",
    "print(\"La moda es =\", moda)"
   ]
  },
  {
   "cell_type": "code",
   "execution_count": null,
   "id": "d489ee23-3af8-4453-bf6c-ebea341da5fb",
   "metadata": {},
   "outputs": [],
   "source": [
    "media = mean(fabrica2)\n",
    "mediana = median(fabrica2)\n",
    "moda = mode(fabrica2)\n",
    "\n",
    "print(\"valores de la fabrica 2\")\n",
    "print(\"La media=\", media)\n",
    "print(\"La mediana es=\", mediana)\n",
    "print(\"La moda es =\", moda)"
   ]
  },
  {
   "cell_type": "code",
   "execution_count": null,
   "id": "19a62a82-9c0f-4428-8ac2-f38278d3189e",
   "metadata": {},
   "outputs": [],
   "source": [
    "# generar 2 subplot de 1 renglon por 2 columnas para desplegar los 2 histogramas,\n",
    "# una a lado de la otra\n",
    "fig, (ax1, ax2) = plt.subplots(nrows =1, ncols=2)"
   ]
  },
  {
   "cell_type": "code",
   "execution_count": null,
   "id": "6bc68bd7-9d67-4a99-9b9b-5ba6e88c16b7",
   "metadata": {},
   "outputs": [],
   "source": [
    "# generar 2 subplot de 1 renglon por 2 columnas para desplegar los 2 histogramas,\n",
    "# una a lado de la otra\n",
    "fig, (ax1, ax2) = plt.subplots(nrows =1, ncols=2, figsize=(10, 5))\n",
    "ax1.hist(fabrica1)\n",
    "ax2.hist(fabrica2)\n",
    "plt.show()"
   ]
  },
  {
   "cell_type": "code",
   "execution_count": null,
   "id": "97371e5d-e3a5-42b8-90a6-0f20ad373243",
   "metadata": {},
   "outputs": [],
   "source": [
    "#valor minimo, maximo, rango\n",
    "\n",
    "\n",
    "media1 = mean(fabrica1)\n",
    "mediana1 = median(fabrica1)\n",
    "moda1 = mode(fabrica1) "
   ]
  },
  {
   "cell_type": "code",
   "execution_count": null,
   "id": "405261f3-4f8a-47e2-9312-613186cc18dd",
   "metadata": {},
   "outputs": [],
   "source": [
    "plt.hist(fabrica1, bins=10, alpha=0.2, color='b', edgecolor = \"Black\")\n",
    "plt.axvline(media1, color='b', linestyle ='dashed', linewidth=2, label='Media')\n",
    "plt.axvline(mediana1, color='r', linestyle ='dashed', linewidth=2, label='Mediana')\n",
    "plt.axvline(moda1, color='y', linestyle ='dashed', linewidth=2, label='Moda') \n",
    "plt.xlabel('valor')\n",
    "plt.ylabel('Frecuencia')\n",
    "plt.title(\"produccion diarias de la fabrica 1\")\n",
    "plt.legend()\n",
    "plt.show()"
   ]
  },
  {
   "cell_type": "code",
   "execution_count": null,
   "id": "c7685eab-84a7-4c81-a9cc-e815575a1db2",
   "metadata": {},
   "outputs": [],
   "source": [
    "#valor minimo, maximo, rango\n",
    "\n",
    "\n",
    "media2 = mean(fabrica2)\n",
    "mediana2 = median(fabrica2)\n",
    "moda2 = mode(fabrica2) \n",
    "\n",
    "plt.hist(fabrica2, bins=10, alpha=0.4, color='b', edgecolor = \"Black\")\n",
    "plt.axvline(media2, color='b', linestyle ='dashed', linewidth=2, label='Media')\n",
    "plt.axvline(mediana2, color='r', linestyle ='dashed', linewidth=2, label='Mediana')\n",
    "plt.axvline(moda2, color='y', linestyle ='dashed', linewidth=2, label='Moda') \n",
    "plt.xlabel('valor')\n",
    "plt.ylabel('Frecuencia')\n",
    "plt.title(\"produccion diarias de la fabrica 2\")\n",
    "plt.legend()\n",
    "plt.show() "
   ]
  },
  {
   "cell_type": "markdown",
   "id": "9258e955-9899-46e4-aafb-206fd0311157",
   "metadata": {},
   "source": [
    "## Maximo, minimo y Rango"
   ]
  },
  {
   "cell_type": "code",
   "execution_count": null,
   "id": "350780c0-085b-4cc2-994a-48686d83889f",
   "metadata": {},
   "outputs": [],
   "source": [
    "maximo = max(fabrica1)\n",
    "minimo = min(fabrica1)\n",
    "rango = maximo - minimo\n",
    "media = mean(fabrica1)\n",
    "mediana = median(fabrica1)\n",
    "moda = mode(fabrica1)\n",
    "\n",
    "print(\" Estadistica descriptiva de la fabrica 1 \\n\", \"Media =\", media, \"\\n Mediana=\", mediana, \"\\n Moda=\", moda, \"\\n Maximo=\", maximo, \"\\n Minimo=\", minimo, \"\\n Rango=\", rango)"
   ]
  },
  {
   "cell_type": "code",
   "execution_count": null,
   "id": "9d3b16c6-0c16-4813-9ee9-2d30f96c4e46",
   "metadata": {},
   "outputs": [],
   "source": [
    "maximo2 = max(fabrica2)\n",
    "minimo2 = min(fabrica2)\n",
    "rango2 = maximo - minimo\n",
    "media2 = mean(fabrica2)\n",
    "mediana2 = median(fabrica2)\n",
    "moda2 = mode(fabrica2)\n",
    "\n",
    "print(\" Estadistica descriptiva de la fabrica 2 \\n\", \"Media =\", media2, \"\\n Mediana=\", mediana2, \"\\n Moda=\", moda2, \"\\n Maximo=\", maximo2, \"\\n Minimo=\", minimo2, \"\\n Rango=\", rango2)"
   ]
  },
  {
   "cell_type": "markdown",
   "id": "cd689949-4a67-4f17-89f8-0948ccf71244",
   "metadata": {},
   "source": [
    "## Dispersión de los datos"
   ]
  },
  {
   "cell_type": "code",
   "execution_count": null,
   "id": "a5b5733b-429d-4b39-bf41-711b35ac8923",
   "metadata": {},
   "outputs": [],
   "source": [
    "desviacion_estandar_fabrica1 = stdev(fabrica1)\n",
    "print(\"La desviacion estandar de la fabrica 1 es=\", desviacion_estandar_fabrica1)"
   ]
  },
  {
   "cell_type": "code",
   "execution_count": null,
   "id": "e6b5f2d0-5021-4edb-9c1c-0b50538d0303",
   "metadata": {},
   "outputs": [],
   "source": [
    "desviacion_estandar_fabrica2 = stdev(fabrica2)\n",
    "print(\"La desviacion estandar de la fabrica 2 es=\", desviacion_estandar_fabrica2)"
   ]
  },
  {
   "cell_type": "code",
   "execution_count": null,
   "id": "dd612898-27b5-4331-9c28-0a70cbda32f4",
   "metadata": {},
   "outputs": [],
   "source": [
    "plt.figure(figsize = (10,8) )\n",
    "plt.hist(fabrica1, bins=10, alpha=0.2, color='b', edgecolor = \"Black\")\n",
    "plt.axvline(media1, color='b', linestyle ='dashed', linewidth=2, label=f'Media={media1:.2f}')\n",
    "plt.axvline(mediana1, color='r', linestyle ='dashed', linewidth=2, label=f'Mediana={mediana1:.2f}')\n",
    "plt.axvline(moda1, color='y', linestyle ='dashed', linewidth=2, label=f'Moda={moda1:.2f}') \n",
    "\n",
    "plt.axvline(media1 - desviacion_estandar_fabrica1, color='black', linestyle ='dashed', \n",
    "            linewidth=2, label=f'Desv. Estandar={desviacion_estandar_fabrica1:.2f}')\n",
    "plt.axvline(media1 + desviacion_estandar_fabrica1, color='black', linestyle ='dashed', \n",
    "            linewidth=2)\n",
    "\n",
    "plt.xlabel('valor')\n",
    "plt.ylabel('Frecuencia')\n",
    "plt.title(\"produccion diarias de la fabrica 1\")\n",
    "plt.legend()\n",
    "plt.show()"
   ]
  },
  {
   "cell_type": "code",
   "execution_count": null,
   "id": "9f5d5fbb-fbdd-439e-a15f-289856a52bdb",
   "metadata": {},
   "outputs": [],
   "source": [
    "plt.figure(figsize = (10,7) )\n",
    "plt.hist(fabrica2, bins=10, alpha=0.2, color='b', edgecolor = \"Black\")\n",
    "plt.axvline(media2, color='b', linestyle ='dashed', linewidth=2, label=f'Media={media2:.2f}')\n",
    "plt.axvline(mediana2, color='r', linestyle ='dashed', linewidth=2, label=f'Mediana={mediana2:.2f}')\n",
    "plt.axvline(moda2, color='y', linestyle ='dashed', linewidth=2, label=f'Moda={moda2:.2f}') \n",
    "\n",
    "plt.axvline(media2 - desviacion_estandar_fabrica2, color='black', linestyle ='dashed', \n",
    "            linewidth=2, label=f'Desv. Estandar={desviacion_estandar_fabrica2:.2f}')\n",
    "plt.axvline(media2 + desviacion_estandar_fabrica2, color='black', linestyle ='dashed', \n",
    "            linewidth=2)\n",
    "\n",
    "plt.xlabel('valor')\n",
    "plt.ylabel('Frecuencia')\n",
    "plt.title(\"produccion diarias de la fabrica 2\")\n",
    "plt.legend()\n",
    "plt.show()"
   ]
  },
  {
   "cell_type": "markdown",
   "id": "0a3aa6fc-c163-495e-aa40-7be1b94de9b4",
   "metadata": {},
   "source": [
    "## tablas de frecuencias "
   ]
  },
  {
   "cell_type": "code",
   "execution_count": null,
   "id": "52acadb5-5b60-4355-9e19-0fc2a9b3d71e",
   "metadata": {},
   "outputs": [],
   "source": [
    "# generar una lista vacia que representa la edad de un grupo de personas\n",
    "edades = []\n",
    "\n",
    "for i in range(100):\n",
    "    numero_aletorio = random.randint(18, 70)\n",
    "    edades.append(numero_aletorio)\n",
    "print(edades)"
   ]
  },
  {
   "cell_type": "code",
   "execution_count": null,
   "id": "232c4aee-0bc4-47f5-aaa1-d2b3b3f2d365",
   "metadata": {},
   "outputs": [],
   "source": [
    "import pandas as pd"
   ]
  },
  {
   "cell_type": "code",
   "execution_count": 11,
   "id": "7d4ea1c8-ddc4-4cb9-abe1-60150d972491",
   "metadata": {},
   "outputs": [
    {
     "ename": "NameError",
     "evalue": "name 'pd' is not defined",
     "output_type": "error",
     "traceback": [
      "\u001b[1;31m---------------------------------------------------------------------------\u001b[0m",
      "\u001b[1;31mNameError\u001b[0m                                 Traceback (most recent call last)",
      "Cell \u001b[1;32mIn[11], line 1\u001b[0m\n\u001b[1;32m----> 1\u001b[0m df_edades \u001b[38;5;241m=\u001b[39m \u001b[43mpd\u001b[49m\u001b[38;5;241m.\u001b[39mDataFrame(edades, columns\u001b[38;5;241m=\u001b[39m[\u001b[38;5;124m\"\u001b[39m\u001b[38;5;124mEdad\u001b[39m\u001b[38;5;124m\"\u001b[39m])\n\u001b[0;32m      2\u001b[0m df_edades\n",
      "\u001b[1;31mNameError\u001b[0m: name 'pd' is not defined"
     ]
    }
   ],
   "source": [
    "df_edades = pd.DataFrame(edades, columns=[\"Edad\"])\n",
    "df_edades"
   ]
  },
  {
   "cell_type": "code",
   "execution_count": null,
   "id": "d1b5d3f3-2646-473a-a3f3-30e71097ea63",
   "metadata": {},
   "outputs": [],
   "source": [
    "# Calcular la tabla de distribucion de frecuencias\n",
    "tabla_frecuencias = df_edades[\"Edad\"].value_counts().reset_index()\n",
    "tabla_frecuencias.columns = [\"Edad\", \"Frecuencia\"]\n",
    "tabla_frecuencias = tabla_frecuencias.sort_values(by = \"Edad\")\n",
    "tabla_frecuencias"
   ]
  },
  {
   "cell_type": "code",
   "execution_count": null,
   "id": "63bfa626-7258-4cec-8591-644ad5203a16",
   "metadata": {},
   "outputs": [],
   "source": [
    "tabla_frecuencias[\"Frec. Relativa\"] = tabla_frecuencias[\"Frecuencia\"] / 100"
   ]
  },
  {
   "cell_type": "code",
   "execution_count": null,
   "id": "f3175a44-cec1-4053-9e2a-241cada2f076",
   "metadata": {},
   "outputs": [],
   "source": [
    "tabla_frecuencias"
   ]
  },
  {
   "cell_type": "code",
   "execution_count": null,
   "id": "b4e620a4-af99-43ed-821e-e30b09b0c8cd",
   "metadata": {},
   "outputs": [],
   "source": [
    "# Calcular la frecuencia porcentual\n",
    "tabla_frecuencias[\"Frec. Porcentual\"] = tabla_frecuencias[\"Frecuencia\"] / 100 *100\n",
    "tabla_frecuencias"
   ]
  },
  {
   "cell_type": "code",
   "execution_count": null,
   "id": "8dc87485-4656-464e-b265-b9ede9f983b2",
   "metadata": {},
   "outputs": [],
   "source": [
    "# Calcular la frecuencia acomulada\n",
    "# Agregamos nueva columna con el calculo de la frecuencia acomulada\n",
    "tabla_frecuencias[\"Frec. Acumulada\"] = tabla_frecuencias[\"Frecuencia\"].cumsum()\n",
    "tabla_frecuencias"
   ]
  },
  {
   "cell_type": "markdown",
   "id": "5f274050-0f5f-4231-8a3e-3e7d2451851a",
   "metadata": {},
   "source": [
    "## Regla de sturges\n",
    "1-. Es una regla que sirve para calcular el numero de clases o intervalos idoneo, en los que se debe dividir un conjunto de datos\n",
    "\n",
    "$\n",
    "c = 1 + Log _2(N) \n",
    "$"
   ]
  },
  {
   "cell_type": "code",
   "execution_count": null,
   "id": "89e0cbd5-67fe-4ae1-b98d-5320c5f8487c",
   "metadata": {},
   "outputs": [],
   "source": [
    "# Libreria de funciones matematicas\n",
    "import math"
   ]
  },
  {
   "cell_type": "code",
   "execution_count": null,
   "id": "bafb8446-5257-46b9-8694-d10b31639987",
   "metadata": {},
   "outputs": [],
   "source": [
    "print(edades)"
   ]
  },
  {
   "cell_type": "code",
   "execution_count": null,
   "id": "2fd665c3-2c8a-4d77-93c2-2dd2365b3e11",
   "metadata": {},
   "outputs": [],
   "source": [
    "df_edades_sturges = pd.DataFrame( {\"Edad\": edades})\n",
    "df_edades_sturges"
   ]
  },
  {
   "cell_type": "code",
   "execution_count": null,
   "id": "5fcf44f8-6a09-41e5-a7a5-acd1ab49b476",
   "metadata": {},
   "outputs": [],
   "source": [
    "# Calcular el numero de intervalos o clases utilizando la regla de Sturges\n",
    "n = len(edades)\n",
    "k = int( 1 + math.log2(n))\n",
    "\n",
    "print(\"Valor de n=\", n, \"\\n Valor de k o numero de intervalos o clases =\", k)"
   ]
  },
  {
   "cell_type": "code",
   "execution_count": null,
   "id": "422bb0bd-777b-4ec7-8fce-40ec2b194c66",
   "metadata": {},
   "outputs": [],
   "source": [
    "plt.hist(edades, alpha=0.5, rwidth = 0.95)\n",
    "plt.title(\"histograma de edades basado en valores estandar de matplotlib\")\n",
    "plt.xlabel(\"Edades\")\n",
    "plt.ylabel(\"Frecuencia\")"
   ]
  },
  {
   "cell_type": "code",
   "execution_count": null,
   "id": "185f1064-5fc5-4efd-bd40-cfb8dddbaa26",
   "metadata": {},
   "outputs": [],
   "source": [
    "tabla_frec_sturges = pd.cut( df_edades_sturges[\"Edad\"], bins = k).value_counts().reset_index()\n",
    "tabla_frec_sturges"
   ]
  },
  {
   "cell_type": "code",
   "execution_count": null,
   "id": "e24328a2-a5ed-457f-9e07-e1656f2977c9",
   "metadata": {},
   "outputs": [],
   "source": [
    "tabla_frec_sturges.columns = [\"Clase\", \"Frecuencia\"]\n",
    "tabla_frec_sturges"
   ]
  },
  {
   "cell_type": "code",
   "execution_count": null,
   "id": "812b2c57-3819-4a16-9842-72097c617784",
   "metadata": {},
   "outputs": [],
   "source": [
    "# Ordenar la tabla de frecuencias por la clase o el intervalo\n",
    "tabla_frec_sturges = tabla_frec_sturges.sort_values(by =\"Clase\")\n",
    "tabla_frec_sturges"
   ]
  },
  {
   "cell_type": "code",
   "execution_count": null,
   "id": "e0bffe38-78bf-4dbd-bd54-82bf6653f93b",
   "metadata": {},
   "outputs": [],
   "source": [
    "tabla_frec_sturges[\"Frec. relativa\"] = tabla_frec_sturges[\"Frecuencia\"] / n\n",
    "tabla_frec_sturges[\"Frec. porcentual\"] = tabla_frec_sturges[\"Frecuencia\"] / n * 100\n",
    "tabla_frec_sturges[\"Frec. acomulada\"] = tabla_frec_sturges[\"Frecuencia\"].cumsum()"
   ]
  },
  {
   "cell_type": "code",
   "execution_count": null,
   "id": "7931179b-8e35-49ec-8696-a77ceccd9621",
   "metadata": {},
   "outputs": [],
   "source": [
    "tabla_frec_sturges"
   ]
  },
  {
   "cell_type": "code",
   "execution_count": null,
   "id": "e6fe9e66-936f-4495-b8ae-29493753fd2f",
   "metadata": {},
   "outputs": [],
   "source": [
    "plt.hist(df_edades_sturges[\"Edad\"], bins=k, alpha=0.5, rwidth=.95)\n",
    "plt.title(\"Histograma de edades basado en la regla de Sturges\")\n",
    "plt.xlabel(\"Edades\")\n",
    "plt.ylabel(\"Frecuencia\")"
   ]
  },
  {
   "cell_type": "code",
   "execution_count": 12,
   "id": "95b9a158-b6f9-459f-95dc-95f9f3cb58e3",
   "metadata": {},
   "outputs": [
    {
     "name": "stdout",
     "output_type": "stream",
     "text": [
      "[65.27, 92.69, 88.64, 88.35, 88.34, 67.43, 77.71, 67.23, 94.45, 62.98, 58.01, 96.02, 57.03, 77.14, 52.27, 89.7, 51.32, 77.72, 60.86, 70.91, 69.88, 62.96, 60.22, 94.21, 61.31, 79.97, 82.43, 81.57, 93.88, 73.42, 75.75, 91.84, 68.04, 93.97, 93.03, 56.67, 87.28, 61.3, 80.95, 80.18, 84.98, 57.48, 56.75, 78.63, 84.71, 62.66, 54.67, 71.42, 68.11, 85.2, 99.78, 66.2, 67.63, 56.07, 80.83, 96.15, 54.83, 62.21, 59.08, 72.5, 63.51, 56.61, 85.29, 86.78, 71.64, 78.39, 67.07, 55.55, 93.05, 87.12, 67.08, 85.97, 75.52, 99.96, 51.67, 60.87, 63.78, 89.83, 90.4, 95.92, 53.77, 83.21, 84.55, 74.36, 53.93, 97.58, 69.13, 82.42, 58.57, 78.71, 92.37, 95.0, 89.91, 79.22, 73.25, 71.97, 83.61, 93.94, 88.1, 69.36]\n"
     ]
    }
   ],
   "source": [
    "print(fabrica1)"
   ]
  },
  {
   "cell_type": "code",
   "execution_count": null,
   "id": "c8fe98bd-aa3e-4d8d-a4a0-588993a6d926",
   "metadata": {},
   "outputs": [],
   "source": [
    "plt.boxplot(fabrica1)\n",
    "plt.title(\"produccion de la fabrica 1\")\n",
    "plt.ylabel(\"Produccion en metros\")\n",
    "plt.show()"
   ]
  },
  {
   "cell_type": "code",
   "execution_count": null,
   "id": "35d01da7-4ec6-4962-9213-0099a773a3e8",
   "metadata": {},
   "outputs": [],
   "source": [
    "plt.boxplot(fabrica2)\n",
    "plt.title(\"produccion de la fabrica 2\")\n",
    "plt.ylabel(\"Produccion en metros\")\n",
    "plt.show()"
   ]
  },
  {
   "cell_type": "markdown",
   "id": "a20e368e-86d5-4575-b82c-a27359c5fbf2",
   "metadata": {},
   "source": [
    "## Comparamos la produccion de la fabrica y la fabrica 2 con un Diagrama de Cajas y Bigotes"
   ]
  },
  {
   "cell_type": "code",
   "execution_count": null,
   "id": "43ff4932-6092-43a3-9d60-6f64bd1f055c",
   "metadata": {},
   "outputs": [],
   "source": [
    "fig,(ax1, ax2) = plt.subplots(nrows= 1, ncols= 2, figsize=(9,5) )\n",
    "ax1.boxplot( fabrica1, vert = True, patch_artist=True)\n",
    "ax1.set_title(\"Produccion de la Fabrica 1\")\n",
    "ax2.boxplot( fabrica2, vert = True, patch_artist=True)\n",
    "ax2.set_title(\"Produccion de la Fabrica 2\")\n",
    "plt.show"
   ]
  },
  {
   "cell_type": "code",
   "execution_count": 14,
   "id": "90377d72-bcb4-40e8-b010-d8168f31cd95",
   "metadata": {},
   "outputs": [
    {
     "name": "stdout",
     "output_type": "stream",
     "text": [
      "[75.41, 97.16, 67.76, 87.84, 58.09, 66.72, 50.87, 71.77, 72.35, 72.04, 52.72, 83.95, 61.22, 66.18, 61.99, 61.45, 75.26, 72.69, 75.52, 72.26, 99.31, 50.19, 53.8, 62.96, 67.5, 97.74, 78.6, 62.87, 88.61, 68.26, 51.47, 74.48, 60.62, 70.02, 60.26, 68.07, 99.07, 89.82, 80.97, 52.42, 51.37, 98.21, 90.2, 80.8, 99.15, 79.84, 58.0, 70.42, 98.87, 64.72, 50.43, 71.46, 75.22, 94.97, 64.45, 75.46, 51.6, 59.84, 89.62, 66.39, 94.79, 68.94, 77.05, 66.5, 61.39, 73.16, 53.48, 70.54, 86.06, 72.04, 66.85, 71.77, 63.78, 76.72, 90.38, 74.95, 67.19, 51.2, 73.97, 78.83, 50.75, 75.18, 98.7, 73.3, 59.8, 60.1, 83.17, 52.2, 67.96, 66.99, 53.27, 72.82, 89.94, 96.37, 61.78, 72.2, 56.51, 88.42, 60.75, 76.96]\n"
     ]
    }
   ],
   "source": [
    "print(fabrica2)"
   ]
  },
  {
   "cell_type": "code",
   "execution_count": 15,
   "id": "a51e8b96-f7e6-4729-bc78-c8c8c4fb4062",
   "metadata": {},
   "outputs": [
    {
     "name": "stdout",
     "output_type": "stream",
     "text": [
      "[75.41, 97.16, 67.76, 87.84, 58.09, 66.72, 50.87, 71.77, 72.35, 72.04, 52.72, 83.95, 61.22, 66.18, 61.99, 61.45, 75.26, 72.69, 75.52, 72.26, 99.31, 50.19, 53.8, 62.96, 67.5, 97.74, 78.6, 62.87, 88.61, 68.26, 51.47, 74.48, 60.62, 70.02, 60.26, 68.07, 99.07, 89.82, 80.97, 52.42, 51.37, 98.21, 90.2, 80.8, 99.15, 79.84, 58.0, 70.42, 98.87, 64.72, 50.43, 71.46, 75.22, 94.97, 64.45, 75.46, 51.6, 59.84, 89.62, 66.39, 94.79, 68.94, 77.05, 66.5, 61.39, 73.16, 53.48, 70.54, 86.06, 72.04, 66.85, 71.77, 63.78, 76.72, 90.38, 74.95, 67.19, 51.2, 73.97, 78.83, 50.75, 75.18, 98.7, 73.3, 59.8, 60.1, 83.17, 52.2, 67.96, 66.99, 53.27, 72.82, 89.94, 96.37, 61.78, 72.2, 56.51, 88.42, 60.75, 76.96, 150]\n"
     ]
    }
   ],
   "source": [
    "fabrica2.append(150)\n",
    "print(fabrica2)"
   ]
  },
  {
   "cell_type": "code",
   "execution_count": null,
   "id": "296a50c9-0a4d-4b71-a84a-ba032ef29562",
   "metadata": {},
   "outputs": [],
   "source": [
    "plt.boxplot(fabrica2)\n",
    "plt.title(\"produccion de la fabrica 2\")\n",
    "plt.ylabel(\"Produccion en metros\")\n",
    "plt.show()"
   ]
  },
  {
   "cell_type": "code",
   "execution_count": null,
   "id": "b5ce723d-8ce8-471f-9a85-d9ae3666c077",
   "metadata": {},
   "outputs": [],
   "source": []
  },
  {
   "cell_type": "code",
   "execution_count": null,
   "id": "97f02021-6cfa-42d7-a751-b4eb6743dd16",
   "metadata": {},
   "outputs": [],
   "source": []
  }
 ],
 "metadata": {
  "kernelspec": {
   "display_name": "Python 3 (ipykernel)",
   "language": "python",
   "name": "python3"
  },
  "language_info": {
   "codemirror_mode": {
    "name": "ipython",
    "version": 3
   },
   "file_extension": ".py",
   "mimetype": "text/x-python",
   "name": "python",
   "nbconvert_exporter": "python",
   "pygments_lexer": "ipython3",
   "version": "3.12.2"
  }
 },
 "nbformat": 4,
 "nbformat_minor": 5
}
