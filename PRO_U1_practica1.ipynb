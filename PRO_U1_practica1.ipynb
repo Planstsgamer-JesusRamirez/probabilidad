{
  "nbformat": 4,
  "nbformat_minor": 0,
  "metadata": {
    "colab": {
      "provenance": []
    },
    "kernelspec": {
      "name": "python3",
      "display_name": "Python 3"
    },
    "language_info": {
      "name": "python"
    }
  },
  "cells": [
    {
      "cell_type": "code",
      "source": [
        "#Probabilidad y estadistica\n",
        "###Facilitador: Jose Gabriel Rodriguez Rivas\n",
        "### Alumno: Jesus Adrian Ramirez Pacheco"
      ],
      "metadata": {
        "id": "KBurbPkHBjdG"
      },
      "execution_count": null,
      "outputs": []
    },
    {
      "cell_type": "code",
      "execution_count": 1,
      "metadata": {
        "id": "Q4g-5o1euxxB"
      },
      "outputs": [],
      "source": [
        "from statistics import *"
      ]
    },
    {
      "cell_type": "code",
      "source": [
        "\n",
        "# Lista de calificaciones del grupo a de probabilidad y estadística\n",
        "grupoa = [70, 65, 70, 80, 80, 90, 100, 85, 65, 90, 85]\n",
        "print(grupoa)"
      ],
      "metadata": {
        "colab": {
          "base_uri": "https://localhost:8080/"
        },
        "id": "bSP_mamtwnj8",
        "outputId": "12a7787e-3b0c-4a88-dff6-5735f62678f6"
      },
      "execution_count": 2,
      "outputs": [
        {
          "output_type": "stream",
          "name": "stdout",
          "text": [
            "[70, 65, 70, 80, 80, 90, 100, 85, 65, 90, 85]\n"
          ]
        }
      ]
    },
    {
      "cell_type": "code",
      "source": [
        "# La funcion type nos devuelve el tipo de dato de la variable\n",
        "type (grupoa)"
      ],
      "metadata": {
        "colab": {
          "base_uri": "https://localhost:8080/"
        },
        "id": "O2vbkPdo2d4F",
        "outputId": "9764bf0d-6252-4cf8-e0f6-59da3945e184"
      },
      "execution_count": 3,
      "outputs": [
        {
          "output_type": "execute_result",
          "data": {
            "text/plain": [
              "list"
            ]
          },
          "metadata": {},
          "execution_count": 3
        }
      ]
    },
    {
      "cell_type": "code",
      "source": [
        "# Sacar la media con una formula\n",
        "prom = sum(grupoa) / len(grupoa)\n",
        "print(prom)"
      ],
      "metadata": {
        "colab": {
          "base_uri": "https://localhost:8080/"
        },
        "id": "rlSdPGnmxyVi",
        "outputId": "ba7d4a7b-5117-466e-c8b2-df7eec0a39d5"
      },
      "execution_count": 4,
      "outputs": [
        {
          "output_type": "stream",
          "name": "stdout",
          "text": [
            "80.0\n"
          ]
        }
      ]
    },
    {
      "cell_type": "code",
      "source": [
        "# Determinar el valor de la medicina\n",
        "mediana = median(grupoa)\n",
        "print(mediana)"
      ],
      "metadata": {
        "colab": {
          "base_uri": "https://localhost:8080/"
        },
        "id": "zdwERFBvzdzG",
        "outputId": "ccfe72c5-33da-41c2-ab69-2e4540ec7b98"
      },
      "execution_count": 5,
      "outputs": [
        {
          "output_type": "stream",
          "name": "stdout",
          "text": [
            "80\n"
          ]
        }
      ]
    },
    {
      "cell_type": "code",
      "source": [
        "prom2 = mean(grupoa)\n",
        "print(prom2)"
      ],
      "metadata": {
        "colab": {
          "base_uri": "https://localhost:8080/"
        },
        "id": "kuVNUBaeyf6f",
        "outputId": "a425fab8-fda9-43e8-d5e6-3871b8c1fa6c"
      },
      "execution_count": 6,
      "outputs": [
        {
          "output_type": "stream",
          "name": "stdout",
          "text": [
            "80\n"
          ]
        }
      ]
    },
    {
      "cell_type": "code",
      "source": [
        "tiempos100mts = [15.10, 17.20, 14.69, 13.27, 22.15, 18.71, 19.15, 20.65, 15.10, 17.20]\n",
        "print (tiempos100mts)"
      ],
      "metadata": {
        "colab": {
          "base_uri": "https://localhost:8080/"
        },
        "id": "h0LAK9J35zAG",
        "outputId": "c44d6c10-87b2-4c94-f7d1-24dc5227918d"
      },
      "execution_count": 7,
      "outputs": [
        {
          "output_type": "stream",
          "name": "stdout",
          "text": [
            "[15.1, 17.2, 14.69, 13.27, 22.15, 18.71, 19.15, 20.65, 15.1, 17.2]\n"
          ]
        }
      ]
    },
    {
      "cell_type": "code",
      "source": [
        "print(\"El tiempo promedio de los corredores es=>\", mean(tiempos100mts) )"
      ],
      "metadata": {
        "colab": {
          "base_uri": "https://localhost:8080/"
        },
        "id": "9mKbqq6a6WkD",
        "outputId": "f42cf560-5e8d-40e2-fd00-d9e78a14ba7e"
      },
      "execution_count": 8,
      "outputs": [
        {
          "output_type": "stream",
          "name": "stdout",
          "text": [
            "El tiempo promedio de los corredores es=> 17.322\n"
          ]
        }
      ]
    },
    {
      "cell_type": "code",
      "source": [
        "mediana = median(tiempos100mts)\n",
        "print(\"La media de los tiempos de los corredores es=>\", mediana)"
      ],
      "metadata": {
        "colab": {
          "base_uri": "https://localhost:8080/"
        },
        "id": "DXohUxze62As",
        "outputId": "46f5bfbd-608c-445f-d435-9fcc1d4be0a4"
      },
      "execution_count": 9,
      "outputs": [
        {
          "output_type": "stream",
          "name": "stdout",
          "text": [
            "La media de los tiempos de los corredores es=> 17.2\n"
          ]
        }
      ]
    },
    {
      "cell_type": "code",
      "source": [
        "moda = mode(tiempos100mts)\n",
        "print(\"La mda de los tiempos es=>\", moda)"
      ],
      "metadata": {
        "colab": {
          "base_uri": "https://localhost:8080/"
        },
        "id": "FkiUPBQq9SOf",
        "outputId": "00e566ea-7469-4293-8fa4-90a55dd4a408"
      },
      "execution_count": 10,
      "outputs": [
        {
          "output_type": "stream",
          "name": "stdout",
          "text": [
            "La mda de los tiempos es=> 15.1\n"
          ]
        }
      ]
    },
    {
      "cell_type": "code",
      "source": [
        "multimodas = multimode(tiempos100mts)\n",
        "print(\"La mda de los tiempos es=>\", multimodas)"
      ],
      "metadata": {
        "colab": {
          "base_uri": "https://localhost:8080/"
        },
        "id": "j-LVETpC9tVU",
        "outputId": "ae2b3454-d623-4015-85f1-235892aabdf6"
      },
      "execution_count": 11,
      "outputs": [
        {
          "output_type": "stream",
          "name": "stdout",
          "text": [
            "La mda de los tiempos es=> [15.1, 17.2]\n"
          ]
        }
      ]
    }
  ]
}