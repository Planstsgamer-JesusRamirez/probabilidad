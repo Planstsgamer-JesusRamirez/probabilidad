{
 "cells": [
  {
   "cell_type": "code",
   "execution_count": 30,
   "id": "a84fbf6a-9680-4c93-94a8-4ac776b37e61",
   "metadata": {},
   "outputs": [],
   "source": [
    "#Probabilidad y estadistica\n",
    "###Facilitador: Jose Gabriel Rodriguez Rivas\n",
    "### Alumno: Jesus Adrian Ramirez Pacheco"
   ]
  },
  {
   "cell_type": "code",
   "execution_count": 35,
   "id": "0c7c33fd-64c9-43f7-a79c-ab40ec600a5c",
   "metadata": {},
   "outputs": [],
   "source": [
    "from statistics import *"
   ]
  },
  {
   "cell_type": "markdown",
   "id": "eaa3d6cc-59e2-439a-b5fe-80daaa153141",
   "metadata": {},
   "source": [
    "## Ejemplo 3: Histogramas de 2 grupos\n",
    "1. En este ejemplo generamos 100 numeros aleatorios reales que representa la produccion diaria de 100 telares (medidas en metros)\n",
    "2. Generar otra lista con la produccion de 100 telares para una segunda fabrica\n",
    "3. Con esta listas de valores se pretende determinar las medidas de tendencia central, es decir, la media, la moda, la mediana, la desviacion estandar.\n",
    "4. Graficar un histograma para cada fabrica."
   ]
  },
  {
   "cell_type": "code",
   "execution_count": 36,
   "id": "6246eb0d-6e3e-4ea5-ade3-3e83f83a5036",
   "metadata": {},
   "outputs": [],
   "source": [
    "# Libreria para generar numeros aleatorios \n",
    "import random\n"
   ]
  },
  {
   "cell_type": "code",
   "execution_count": 37,
   "id": "f7f70bcb-f5c0-4346-b09a-fb9ffb56e1d3",
   "metadata": {},
   "outputs": [
    {
     "name": "stdout",
     "output_type": "stream",
     "text": [
      "[90.62, 63.36, 89.58, 76.11, 78.41, 96.15, 77.64, 79.13, 67.22, 75.09, 74.45, 55.16, 79.11, 53.75, 65.84, 91.18, 62.55, 54.83, 53.86, 89.68, 93.18, 56.95, 57.53, 55.05, 70.49, 86.36, 71.37, 67.11, 82.26, 86.72, 86.6, 83.76, 76.49, 72.37, 66.79, 60.95, 98.87, 86.27, 99.21, 50.44, 93.27, 67.22, 83.97, 77.74, 98.28, 61.15, 53.59, 55.81, 62.11, 96.7, 65.3, 65.05, 77.58, 98.37, 67.68, 72.29, 51.13, 58.98, 82.14, 70.27, 71.76, 75.3, 64.74, 80.7, 57.03, 85.85, 78.95, 91.9, 52.69, 97.82, 80.99, 77.5, 73.72, 81.54, 85.53, 56.85, 64.13, 77.62, 93.25, 88.13, 97.66, 57.76, 71.86, 93.38, 68.28, 99.41, 92.8, 69.35, 89.15, 51.53, 77.67, 64.0, 72.33, 86.86, 78.78, 78.04, 89.88, 81.82, 92.79, 58.02]\n"
     ]
    }
   ],
   "source": [
    "fabrica1 = []\n",
    "for i in range(100):\n",
    "    numero_aleatorio = round(random.uniform(50, 100), 2 )\n",
    "    fabrica1.append(numero_aleatorio)\n",
    "print(fabrica1)"
   ]
  },
  {
   "cell_type": "code",
   "execution_count": 38,
   "id": "8ffcdf8c-b534-4e5c-9146-3ec891d3841b",
   "metadata": {},
   "outputs": [
    {
     "name": "stdout",
     "output_type": "stream",
     "text": [
      "[75.57, 91.38, 81.85, 87.85, 90.89, 55.97, 71.39, 76.44, 50.86, 93.24, 61.23, 94.15, 76.26, 94.66, 98.88, 85.44, 55.3, 72.21, 60.39, 54.78, 56.27, 98.5, 88.73, 54.8, 55.78, 50.92, 91.9, 97.01, 54.86, 94.02, 79.6, 87.83, 68.36, 58.62, 78.02, 72.62, 87.82, 76.82, 98.74, 71.49, 65.14, 78.4, 88.42, 74.26, 92.62, 59.04, 64.7, 79.14, 83.99, 50.36, 65.28, 88.44, 62.19, 93.48, 96.58, 76.68, 84.14, 94.93, 51.98, 94.09, 94.41, 87.75, 59.92, 67.97, 75.48, 84.09, 53.7, 97.49, 83.06, 88.84, 69.73, 99.85, 80.45, 54.34, 53.62, 70.4, 70.83, 87.55, 71.07, 96.89, 52.56, 59.07, 84.85, 63.44, 90.36, 79.29, 56.74, 50.11, 88.38, 76.08, 86.17, 78.08, 91.07, 93.3, 80.22, 93.8, 56.07, 65.65, 63.21, 70.98]\n"
     ]
    }
   ],
   "source": [
    " fabrica2 = []\n",
    "for i in range(100):\n",
    "    numero_aleatorio2 = round(random.uniform(50, 100), 2 )\n",
    "    fabrica2.append(numero_aleatorio2)\n",
    "print(fabrica2)"
   ]
  },
  {
   "cell_type": "code",
   "execution_count": 41,
   "id": "d6ac5c48-fa73-4358-809c-8200ddc5e543",
   "metadata": {},
   "outputs": [
    {
     "ename": "ModuleNotFoundError",
     "evalue": "No module named 'matplotlib'",
     "output_type": "error",
     "traceback": [
      "\u001b[1;31m---------------------------------------------------------------------------\u001b[0m",
      "\u001b[1;31mModuleNotFoundError\u001b[0m                       Traceback (most recent call last)",
      "Cell \u001b[1;32mIn[41], line 2\u001b[0m\n\u001b[0;32m      1\u001b[0m \u001b[38;5;66;03m# libreria de python para graficar valores\u001b[39;00m\n\u001b[1;32m----> 2\u001b[0m \u001b[38;5;28;01mimport\u001b[39;00m \u001b[38;5;21;01mmatplotlib\u001b[39;00m\u001b[38;5;21;01m.\u001b[39;00m\u001b[38;5;21;01mpyplot\u001b[39;00m \u001b[38;5;28;01mas\u001b[39;00m \u001b[38;5;21;01mplt\u001b[39;00m\n",
      "\u001b[1;31mModuleNotFoundError\u001b[0m: No module named 'matplotlib'"
     ]
    }
   ],
   "source": [
    "# libreria de python para graficar valores\n",
    "import matplotlib.pyplot as plt"
   ]
  },
  {
   "cell_type": "code",
   "execution_count": 24,
   "id": "c1eb618d-cfd6-4cbf-8566-109544bb11e6",
   "metadata": {},
   "outputs": [
    {
     "ename": "NameError",
     "evalue": "name 'plt' is not defined",
     "output_type": "error",
     "traceback": [
      "\u001b[1;31m---------------------------------------------------------------------------\u001b[0m",
      "\u001b[1;31mNameError\u001b[0m                                 Traceback (most recent call last)",
      "Cell \u001b[1;32mIn[24], line 1\u001b[0m\n\u001b[1;32m----> 1\u001b[0m \u001b[43mplt\u001b[49m\u001b[38;5;241m.\u001b[39mhist(fabrica1)\n\u001b[0;32m      2\u001b[0m pip\u001b[38;5;241m.\u001b[39mtitle(\u001b[38;5;124m\"\u001b[39m\u001b[38;5;124mProduccion diaria de la fabrica 1\u001b[39m\u001b[38;5;124m\"\u001b[39m)\n",
      "\u001b[1;31mNameError\u001b[0m: name 'plt' is not defined"
     ]
    }
   ],
   "source": [
    "plt.hist(fabrica1)\n",
    "pip.title(\"Produccion diaria de la fabrica 1\")"
   ]
  },
  {
   "cell_type": "code",
   "execution_count": null,
   "id": "6d38f71e-0ca3-40e7-b509-8f1b2d254165",
   "metadata": {},
   "outputs": [],
   "source": [
    "plt.hist(fabrica2)\n",
    "pip.title(\"Produccion diaria de la fabrica 2\")"
   ]
  },
  {
   "cell_type": "code",
   "execution_count": null,
   "id": "b75cf3fc-4aa6-4eaa-b71b-fa22d72b735b",
   "metadata": {},
   "outputs": [],
   "source": [
    "media = mean(fabrica1)\n",
    "mediana = median(fabrica1)\n",
    "moda = mode(fabrica1)\n",
    "\n",
    "print(\"valores de la fabrica 1\")\n",
    "print(\"La media=\", media)\n",
    "print(\"La mediana es=\", mediana)\n",
    "print(\"La moda es =\", moda)"
   ]
  },
  {
   "cell_type": "code",
   "execution_count": null,
   "id": "d489ee23-3af8-4453-bf6c-ebea341da5fb",
   "metadata": {},
   "outputs": [],
   "source": [
    "media = mean(fabrica2)\n",
    "mediana = median(fabrica2)\n",
    "moda = mode(fabrica2)\n",
    "\n",
    "print(\"valores de la fabrica 2\")\n",
    "print(\"La media=\", media)\n",
    "print(\"La mediana es=\", mediana)\n",
    "print(\"La moda es =\", moda)"
   ]
  },
  {
   "cell_type": "code",
   "execution_count": 42,
   "id": "19a62a82-9c0f-4428-8ac2-f38278d3189e",
   "metadata": {},
   "outputs": [
    {
     "ename": "NameError",
     "evalue": "name 'plt' is not defined",
     "output_type": "error",
     "traceback": [
      "\u001b[1;31m---------------------------------------------------------------------------\u001b[0m",
      "\u001b[1;31mNameError\u001b[0m                                 Traceback (most recent call last)",
      "Cell \u001b[1;32mIn[42], line 3\u001b[0m\n\u001b[0;32m      1\u001b[0m \u001b[38;5;66;03m# generar 2 subplot de 1 renglon por 2 columnas para desplegar los 2 histogramas,\u001b[39;00m\n\u001b[0;32m      2\u001b[0m \u001b[38;5;66;03m# una a lado de la otra\u001b[39;00m\n\u001b[1;32m----> 3\u001b[0m fig, (ax1, ax2) \u001b[38;5;241m=\u001b[39m \u001b[43mplt\u001b[49m\u001b[38;5;241m.\u001b[39msubplots(nrows \u001b[38;5;241m=\u001b[39m\u001b[38;5;241m1\u001b[39m, ncols\u001b[38;5;241m=\u001b[39m\u001b[38;5;241m2\u001b[39m)\n",
      "\u001b[1;31mNameError\u001b[0m: name 'plt' is not defined"
     ]
    }
   ],
   "source": [
    "# generar 2 subplot de 1 renglon por 2 columnas para desplegar los 2 histogramas,\n",
    "# una a lado de la otra\n",
    "fig, (ax1, ax2) = plt.subplots(nrows =1, ncols=2)"
   ]
  },
  {
   "cell_type": "code",
   "execution_count": null,
   "id": "6bc68bd7-9d67-4a99-9b9b-5ba6e88c16b7",
   "metadata": {},
   "outputs": [],
   "source": [
    "# generar 2 subplot de 1 renglon por 2 columnas para desplegar los 2 histogramas,\n",
    "# una a lado de la otra\n",
    "fig, (ax1, ax2) = plt.subplots(nrows =1, ncols=2, figsize=(10, 5))\n",
    "ax1.hist(fabrica1)\n",
    "ax2.hist(fabrica2)\n",
    "plt.show()"
   ]
  },
  {
   "cell_type": "code",
   "execution_count": null,
   "id": "97371e5d-e3a5-42b8-90a6-0f20ad373243",
   "metadata": {},
   "outputs": [],
   "source": [
    "#valor minimo, maximo, rango\n",
    "\n",
    "\n",
    "media1 = mean(fabrica1)\n",
    "mediana1 = median(fabrica1)\n",
    "moda1 = mode(fabrica1) "
   ]
  },
  {
   "cell_type": "code",
   "execution_count": 43,
   "id": "405261f3-4f8a-47e2-9312-613186cc18dd",
   "metadata": {},
   "outputs": [
    {
     "ename": "NameError",
     "evalue": "name 'plt' is not defined",
     "output_type": "error",
     "traceback": [
      "\u001b[1;31m---------------------------------------------------------------------------\u001b[0m",
      "\u001b[1;31mNameError\u001b[0m                                 Traceback (most recent call last)",
      "Cell \u001b[1;32mIn[43], line 1\u001b[0m\n\u001b[1;32m----> 1\u001b[0m \u001b[43mplt\u001b[49m\u001b[38;5;241m.\u001b[39mhist(fabrica1, bins\u001b[38;5;241m=\u001b[39m\u001b[38;5;241m10\u001b[39m, alpha\u001b[38;5;241m=\u001b[39m\u001b[38;5;241m0.4\u001b[39m, color\u001b[38;5;241m=\u001b[39m\u001b[38;5;124m'\u001b[39m\u001b[38;5;124mb\u001b[39m\u001b[38;5;124m'\u001b[39m, edgecolor \u001b[38;5;241m=\u001b[39m \u001b[38;5;124m\"\u001b[39m\u001b[38;5;124mBlack\u001b[39m\u001b[38;5;124m\"\u001b[39m)\n\u001b[0;32m      2\u001b[0m plt\u001b[38;5;241m.\u001b[39maxvline(media1, color\u001b[38;5;241m=\u001b[39m\u001b[38;5;124m'\u001b[39m\u001b[38;5;124mb\u001b[39m\u001b[38;5;124m'\u001b[39m, linestyle \u001b[38;5;241m=\u001b[39m\u001b[38;5;124m'\u001b[39m\u001b[38;5;124mdashed\u001b[39m\u001b[38;5;124m'\u001b[39m, linewidth\u001b[38;5;241m=\u001b[39m\u001b[38;5;241m2\u001b[39m, label\u001b[38;5;241m=\u001b[39m\u001b[38;5;124m'\u001b[39m\u001b[38;5;124mMedia\u001b[39m\u001b[38;5;124m'\u001b[39m)\n\u001b[0;32m      3\u001b[0m plt\u001b[38;5;241m.\u001b[39maxvline(mediana1, color\u001b[38;5;241m=\u001b[39m\u001b[38;5;124m'\u001b[39m\u001b[38;5;124mr\u001b[39m\u001b[38;5;124m'\u001b[39m, linestyle \u001b[38;5;241m=\u001b[39m\u001b[38;5;124m'\u001b[39m\u001b[38;5;124mdashed\u001b[39m\u001b[38;5;124m'\u001b[39m, linewidth\u001b[38;5;241m=\u001b[39m\u001b[38;5;241m2\u001b[39m, label\u001b[38;5;241m=\u001b[39m\u001b[38;5;124m'\u001b[39m\u001b[38;5;124mMediana\u001b[39m\u001b[38;5;124m'\u001b[39m)\n",
      "\u001b[1;31mNameError\u001b[0m: name 'plt' is not defined"
     ]
    }
   ],
   "source": [
    "plt.hist(fabrica1, bins=20, alpha=0.4, color='b', edgecolor = \"Black\")\n",
    "plt.axvline(media1, color='b', linestyle ='dashed', linewidth=2, label='Media')\n",
    "plt.axvline(mediana1, color='r', linestyle ='dashed', linewidth=2, label='Mediana')\n",
    "plt.axvline(moda1, color='y', linestyle ='dashed', linewidth=2, label='Moda') \n",
    "plt.xlabel('valor')\n",
    "plt.ylabel('Frecuencia')\n",
    "plt.title(\"produccion diarias de la fabrica 1\")\n",
    "plt.legend()\n",
    "plt.show()"
   ]
  },
  {
   "cell_type": "code",
   "execution_count": null,
   "id": "c7685eab-84a7-4c81-a9cc-e815575a1db2",
   "metadata": {},
   "outputs": [],
   "source": [
    "#valor minimo, maximo, rango\n",
    "\n",
    "\n",
    "media2 = mean(fabrica2)\n",
    "mediana2 = median(fabrica2)\n",
    "moda2 = mode(fabrica2) \n",
    "\n",
    "plt.hist(fabrica2, bins=10, alpha=0.4, color='b', edgecolor = \"Black\")\n",
    "plt.axvline(media2, color='b', linestyle ='dashed', linewidth=2, label='Media')\n",
    "plt.axvline(mediana2, color='r', linestyle ='dashed', linewidth=2, label='Mediana')\n",
    "plt.axvline(moda2, color='y', linestyle ='dashed', linewidth=2, label='Moda') \n",
    "plt.xlabel('valor')\n",
    "plt.ylabel('Frecuencia')\n",
    "plt.title(\"produccion diarias de la fabrica 2\")\n",
    "plt.legend()\n",
    "plt.show() "
   ]
  },
  {
   "cell_type": "code",
   "execution_count": null,
   "id": "cd423a29-096f-4925-a2cc-00760809ce0a",
   "metadata": {},
   "outputs": [],
   "source": []
  }
 ],
 "metadata": {
  "kernelspec": {
   "display_name": "Python 3 (ipykernel)",
   "language": "python",
   "name": "python3"
  },
  "language_info": {
   "codemirror_mode": {
    "name": "ipython",
    "version": 3
   },
   "file_extension": ".py",
   "mimetype": "text/x-python",
   "name": "python",
   "nbconvert_exporter": "python",
   "pygments_lexer": "ipython3",
   "version": "3.12.2"
  }
 },
 "nbformat": 4,
 "nbformat_minor": 5
}
