{
 "cells": [
  {
   "cell_type": "code",
   "execution_count": null,
   "id": "d9934bf3-e06d-4653-ab91-d22c88eaf627",
   "metadata": {},
   "outputs": [],
   "source": [
    "from statistics import*\n",
    "import pandas as pd\n",
    "import matplotlib as plt\n",
    "import seaborn as sns\n",
    "from matplotlib import pyplot"
   ]
  },
  {
   "cell_type": "code",
   "execution_count": null,
   "id": "20f85673-6140-45ec-bffb-75162f82206e",
   "metadata": {},
   "outputs": [],
   "source": [
    "autos = pd.read_csv(\"autos2.csv\")"
   ]
  },
  {
   "cell_type": "code",
   "execution_count": null,
   "id": "6eabee6e-7340-420f-88bc-03b4e75600dc",
   "metadata": {},
   "outputs": [],
   "source": [
    "autos"
   ]
  },
  {
   "cell_type": "markdown",
   "id": "9e047e1d-cec6-4e33-ae2c-e688fb4ead58",
   "metadata": {},
   "source": [
    "## Maximo, Minimo, Moda, Media, Mediana"
   ]
  },
  {
   "cell_type": "code",
   "execution_count": null,
   "id": "ea33d346-a694-41ac-ac1f-66ba76eda8d0",
   "metadata": {},
   "outputs": [],
   "source": [
    "autos.price.min()"
   ]
  },
  {
   "cell_type": "code",
   "execution_count": null,
   "id": "912aa664-0d46-4822-8b54-6924f3b20981",
   "metadata": {},
   "outputs": [],
   "source": [
    "autos.price.max()"
   ]
  },
  {
   "cell_type": "code",
   "execution_count": null,
   "id": "c14ea1fc-20e1-4cb3-9b59-6722e5e40eb4",
   "metadata": {},
   "outputs": [],
   "source": [
    "autos.price.mean()"
   ]
  },
  {
   "cell_type": "code",
   "execution_count": null,
   "id": "50daa8dd-d6f9-4a6d-932c-28c165d08eb5",
   "metadata": {},
   "outputs": [],
   "source": [
    "autos.price.mode()"
   ]
  },
  {
   "cell_type": "code",
   "execution_count": null,
   "id": "5d00d6c3-71e5-47c6-b162-1518da505e02",
   "metadata": {},
   "outputs": [],
   "source": [
    "autos.price.median()"
   ]
  },
  {
   "cell_type": "markdown",
   "id": "68d917cb-de43-4d23-bccb-9bff479ce588",
   "metadata": {},
   "source": [
    "## Desviacion estandar de los precios"
   ]
  },
  {
   "cell_type": "code",
   "execution_count": null,
   "id": "68442c91-07da-4fba-b3db-ffd2c087fae4",
   "metadata": {},
   "outputs": [],
   "source": [
    "desviacion_estandar_autos = stdev(autos.csv)\n",
    "print(\"La desviacion estandar de los precios de los autos es=\", desviacion_estandar_autos)"
   ]
  },
  {
   "cell_type": "markdown",
   "id": "df891829-da49-4398-8b04-5b489ae252b8",
   "metadata": {},
   "source": [
    "## Regla de sturges para los precios de los automoviles\n"
   ]
  },
  {
   "cell_type": "code",
   "execution_count": null,
   "id": "a1068c29-641f-4140-8e98-27baf429ecac",
   "metadata": {},
   "outputs": [],
   "source": [
    "plt.pyplot.hist(autos.price, bins =24)\n",
    "plt.pyplot.title(\"Histograma de los precios de los automoviles\")\n",
    "plt.pyplot.xlabel(\"Precio\")\n",
    "plt.pyplot.ylabel(\"Frecuencia\")"
   ]
  },
  {
   "cell_type": "markdown",
   "id": "383bda7b-a728-452f-99bc-74e37028eefa",
   "metadata": {},
   "source": [
    "## Diagrama de caja y bigotes de la arelacion de los automoviles"
   ]
  },
  {
   "cell_type": "code",
   "execution_count": null,
   "id": "e9a719be-b581-440a-8dc0-3cd9f4a5e6e3",
   "metadata": {},
   "outputs": [],
   "source": [
    "sns.boxplot(x = \"price\", y= \"body-style\", data = autos)"
   ]
  },
  {
   "cell_type": "code",
   "execution_count": null,
   "id": "82a42ef7-5f69-4a68-bf2b-af94d3868af8",
   "metadata": {},
   "outputs": [],
   "source": [
    "sns.boxplot(x = \"price\", y= \"drive-wheels\", data = autos)"
   ]
  },
  {
   "cell_type": "code",
   "execution_count": null,
   "id": "6e4b39e7-5d3a-45ba-9a40-28536a9f99a4",
   "metadata": {},
   "outputs": [],
   "source": [
    "sns.boxplot(x = \"price\", y= \"engine-location\", data = autos)"
   ]
  },
  {
   "cell_type": "markdown",
   "id": "00a2616d-d46b-4313-868e-39998f657cb1",
   "metadata": {},
   "source": [
    "## Conclusiones\n",
    "Fue una practica en la que no pude ver los resultados de cada linea, en donde si los ejecutaba, no me iban a salir tal, mas que errores de linea, de que los modulos no estan definidos o los nombres de los modulos no coinciden con la liena de codigo, pero me hubiera interesado demasiado para saber mis resultados y saber si estoy en todo lo que hice, por ahora esos pequeños errores los tengo que ver hoy en clase y ver si esta practica esta bien, en conclusion es una practica para saber los precios y estadisticas de todos los carros, tambien sabiendo la arelacion de los precios comparandolos con los otros apartados que tiene el archivo o estadistica de autos2."
   ]
  },
  {
   "cell_type": "code",
   "execution_count": null,
   "id": "fb176845-e0f0-4e5d-b3a3-7f3246a1bc9a",
   "metadata": {},
   "outputs": [],
   "source": []
  }
 ],
 "metadata": {
  "kernelspec": {
   "display_name": "Python 3 (ipykernel)",
   "language": "python",
   "name": "python3"
  },
  "language_info": {
   "codemirror_mode": {
    "name": "ipython",
    "version": 3
   },
   "file_extension": ".py",
   "mimetype": "text/x-python",
   "name": "python",
   "nbconvert_exporter": "python",
   "pygments_lexer": "ipython3",
   "version": "3.12.2"
  }
 },
 "nbformat": 4,
 "nbformat_minor": 5
}
