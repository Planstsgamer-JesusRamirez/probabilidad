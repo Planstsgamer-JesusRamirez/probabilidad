{
 "cells": [
  {
   "cell_type": "markdown",
   "id": "18bcfc7c-0eaf-4158-9081-67cb67749bf8",
   "metadata": {},
   "source": [
    "## Distribucion de poisson"
   ]
  },
  {
   "cell_type": "code",
   "execution_count": 7,
   "id": "653f5d99-91ba-4e9a-a74e-393332012eae",
   "metadata": {},
   "outputs": [
    {
     "name": "stdout",
     "output_type": "stream",
     "text": [
      "La probabilidad de que dos personas sean admitidas es: 0.0842\n",
      "La probabilidad de que más de diez personas sean admitidas es: 0.0137\n"
     ]
    }
   ],
   "source": [
    "from scipy.stats import poisson\n",
    "\n",
    "# Media de personas admitidas por día\n",
    "media_personasadmitidas = 5\n",
    "\n",
    "# a) Probabilidad de que dos personas sean admitidas\n",
    "prob_dos_personas = poisson.pmf(2, media_personasadmitidas)\n",
    "print(f\"La probabilidad de que dos personas sean admitidas es: {prob_dos_personas:.4f}\")\n",
    "\n",
    "# b) Probabilidad de que más de diez personas son admitidas\n",
    "prob_mas_de_diez = 1 - poisson.cdf(10, media_personasadmitidas)\n",
    "print(f\"La probabilidad de que más de diez personas sean admitidas es: {prob_mas_de_diez:.4f}\")\n",
    "\n",
    "# Explicacion:\n",
    "## El problema se resuelve utilizando la distribución de Poisson ya que estamos tratando con eventos raros \n",
    "## que ocurren con una tasa promedio conocida (cinco personas por día) y de manera independiente entre sí.\n"
   ]
  },
  {
   "cell_type": "code",
   "execution_count": 8,
   "id": "82007677-c22b-49cb-9cfd-c1b3aa9a059f",
   "metadata": {},
   "outputs": [
    {
     "name": "stdout",
     "output_type": "stream",
     "text": [
      "La probabilidad de que ninguno sea defectuoso es: 0.3677\n",
      "La probabilidad de que tres sean defectuosos es: 0.0613\n",
      "La probabilidad de que cuatro sean defectuosos es: 0.0153\n"
     ]
    }
   ],
   "source": [
    "from scipy.stats import binom\n",
    "\n",
    "# Probabilidad de que un motor este defectuoso\n",
    "p = 0.001\n",
    "# Número de los motores\n",
    "n = 1000\n",
    "\n",
    "# a) Probabilidad de que ninguno sea defectuoso\n",
    "prob_ninguno_defectuoso = binom.pmf(0, n, p)\n",
    "print(f\"La probabilidad de que ninguno sea defectuoso es: {prob_ninguno_defectuoso:.4f}\")\n",
    "\n",
    "# b) Probabilidad de que tres sean defectuosos\n",
    "prob_tres_defectuosos = binom.pmf(3, n, p)\n",
    "print(f\"La probabilidad de que tres sean defectuosos es: {prob_tres_defectuosos:.4f}\")\n",
    "\n",
    "# c) Probabilidad de que cuatro sean defectuosos\n",
    "prob_cuatro_defectuosos = binom.pmf(4, n, p)\n",
    "print(f\"La probabilidad de que cuatro sean defectuosos es: {prob_cuatro_defectuosos:.4f}\")\n",
    "\n",
    "# Explicación:\n",
    "## Ya que el ejercicio no menciona la regla de poisson se estara resolviendo utilizando la distribución Binomial donde se utilizan n \n",
    "##(n = 1000 motores), cada uno con dos posibles resultados (defectuoso o no defectuoso), y la probabilidad de éxito \n",
    "## (motor defectuoso) es la misma en cada ensayo (p = 0.001).\n",
    "\n",
    "\n"
   ]
  },
  {
   "cell_type": "code",
   "execution_count": null,
   "id": "7d5ba222-b574-4c25-b39d-284cef62d315",
   "metadata": {},
   "outputs": [],
   "source": []
  }
 ],
 "metadata": {
  "kernelspec": {
   "display_name": "Python 3 (ipykernel)",
   "language": "python",
   "name": "python3"
  },
  "language_info": {
   "codemirror_mode": {
    "name": "ipython",
    "version": 3
   },
   "file_extension": ".py",
   "mimetype": "text/x-python",
   "name": "python",
   "nbconvert_exporter": "python",
   "pygments_lexer": "ipython3",
   "version": "3.12.2"
  }
 },
 "nbformat": 4,
 "nbformat_minor": 5
}
