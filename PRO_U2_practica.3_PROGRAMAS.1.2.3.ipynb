{
 "cells": [
  {
   "cell_type": "markdown",
   "id": "2e240522-f426-4402-b8fc-9c4127498ed8",
   "metadata": {},
   "source": [
    "## Primera practica de combinaciones sin repeticion"
   ]
  },
  {
   "cell_type": "code",
   "execution_count": 3,
   "id": "7309ae46-3e0f-41a3-b9e8-59cc81949007",
   "metadata": {},
   "outputs": [],
   "source": [
    "import math as mt #Utilizar el factorial\n",
    "from itertools import combinations\n",
    "from itertools import combinations_with_replacement\n",
    "import numpy as np"
   ]
  },
  {
   "cell_type": "code",
   "execution_count": 4,
   "id": "fda9777f-10cf-463e-9c76-91e5c37b5544",
   "metadata": {},
   "outputs": [
    {
     "name": "stdout",
     "output_type": "stream",
     "text": [
      "Existen 45.0  Posibles combinaciones sin repeticion del total de 10  nombres  en grupos de  2 en 2\n",
      "Aqui las combinaciones\n",
      "('Juan', 'Paco')\n",
      "('Juan', 'Jesus')\n",
      "('Juan', 'Adriana')\n",
      "('Juan', 'Pablo')\n",
      "('Juan', 'Alejandro')\n",
      "('Juan', 'Maria')\n",
      "('Juan', 'Esteban')\n",
      "('Juan', 'Sebas')\n",
      "('Juan', 'Ever')\n",
      "('Paco', 'Jesus')\n",
      "('Paco', 'Adriana')\n",
      "('Paco', 'Pablo')\n",
      "('Paco', 'Alejandro')\n",
      "('Paco', 'Maria')\n",
      "('Paco', 'Esteban')\n",
      "('Paco', 'Sebas')\n",
      "('Paco', 'Ever')\n",
      "('Jesus', 'Adriana')\n",
      "('Jesus', 'Pablo')\n",
      "('Jesus', 'Alejandro')\n",
      "('Jesus', 'Maria')\n",
      "('Jesus', 'Esteban')\n",
      "('Jesus', 'Sebas')\n",
      "('Jesus', 'Ever')\n",
      "('Adriana', 'Pablo')\n",
      "('Adriana', 'Alejandro')\n",
      "('Adriana', 'Maria')\n",
      "('Adriana', 'Esteban')\n",
      "('Adriana', 'Sebas')\n",
      "('Adriana', 'Ever')\n",
      "('Pablo', 'Alejandro')\n",
      "('Pablo', 'Maria')\n",
      "('Pablo', 'Esteban')\n",
      "('Pablo', 'Sebas')\n",
      "('Pablo', 'Ever')\n",
      "('Alejandro', 'Maria')\n",
      "('Alejandro', 'Esteban')\n",
      "('Alejandro', 'Sebas')\n",
      "('Alejandro', 'Ever')\n",
      "('Maria', 'Esteban')\n",
      "('Maria', 'Sebas')\n",
      "('Maria', 'Ever')\n",
      "('Esteban', 'Sebas')\n",
      "('Esteban', 'Ever')\n",
      "('Sebas', 'Ever')\n"
     ]
    }
   ],
   "source": [
    "nombres = [\"Juan\", \"Paco\", \"Jesus\", \"Adriana\", \"Pablo\", \"Alejandro\", \"Maria\", \"Esteban\", \"Sebas\", \"Ever\"]\n",
    "n = len(nombres)\n",
    "r = 2 # ¿como agrupar?\n",
    "\n",
    "Cn = mt.factorial(n) / (mt.factorial(r) * mt.factorial(n-r))\n",
    "\n",
    "print(\"Existen\", Cn , \" Posibles combinaciones sin repeticion del total de\",\n",
    "     n, \" nombres\", \" en grupos de \", r , \"en\", r)\n",
    "\n",
    "print(\"Aqui las combinaciones\")\n",
    "combinaciones_nombres = list(combinations(nombres, r))\n",
    "\n",
    "#Imprimir las combinaciones\n",
    "for combinacion in combinaciones_nombres:\n",
    "    print(combinacion)"
   ]
  },
  {
   "cell_type": "markdown",
   "id": "10a22fae-d855-4a45-aef8-68d02a2be038",
   "metadata": {},
   "source": [
    "## Misma y primera practica pero ahora con repeticiones"
   ]
  },
  {
   "cell_type": "code",
   "execution_count": 7,
   "id": "96698458-3263-4987-a171-e73915d90127",
   "metadata": {},
   "outputs": [
    {
     "name": "stdout",
     "output_type": "stream",
     "text": [
      "Existen 66.0  posibkes combinaciones sin repeticion del total de  12 caracteres  en grupos de  10 en 10\n",
      "Aqui las combinaciones\n",
      "('A', 'B', 'C', 'D', 'E', 'F', '0', '1', '2', '3')\n",
      "('A', 'B', 'C', 'D', 'E', 'F', '0', '1', '2', '4')\n",
      "('A', 'B', 'C', 'D', 'E', 'F', '0', '1', '2', '5')\n",
      "('A', 'B', 'C', 'D', 'E', 'F', '0', '1', '3', '4')\n",
      "('A', 'B', 'C', 'D', 'E', 'F', '0', '1', '3', '5')\n",
      "('A', 'B', 'C', 'D', 'E', 'F', '0', '1', '4', '5')\n",
      "('A', 'B', 'C', 'D', 'E', 'F', '0', '2', '3', '4')\n",
      "('A', 'B', 'C', 'D', 'E', 'F', '0', '2', '3', '5')\n",
      "('A', 'B', 'C', 'D', 'E', 'F', '0', '2', '4', '5')\n",
      "('A', 'B', 'C', 'D', 'E', 'F', '0', '3', '4', '5')\n",
      "('A', 'B', 'C', 'D', 'E', 'F', '1', '2', '3', '4')\n",
      "('A', 'B', 'C', 'D', 'E', 'F', '1', '2', '3', '5')\n",
      "('A', 'B', 'C', 'D', 'E', 'F', '1', '2', '4', '5')\n",
      "('A', 'B', 'C', 'D', 'E', 'F', '1', '3', '4', '5')\n",
      "('A', 'B', 'C', 'D', 'E', 'F', '2', '3', '4', '5')\n",
      "('A', 'B', 'C', 'D', 'E', '0', '1', '2', '3', '4')\n",
      "('A', 'B', 'C', 'D', 'E', '0', '1', '2', '3', '5')\n",
      "('A', 'B', 'C', 'D', 'E', '0', '1', '2', '4', '5')\n",
      "('A', 'B', 'C', 'D', 'E', '0', '1', '3', '4', '5')\n",
      "('A', 'B', 'C', 'D', 'E', '0', '2', '3', '4', '5')\n",
      "('A', 'B', 'C', 'D', 'E', '1', '2', '3', '4', '5')\n",
      "('A', 'B', 'C', 'D', 'F', '0', '1', '2', '3', '4')\n",
      "('A', 'B', 'C', 'D', 'F', '0', '1', '2', '3', '5')\n",
      "('A', 'B', 'C', 'D', 'F', '0', '1', '2', '4', '5')\n",
      "('A', 'B', 'C', 'D', 'F', '0', '1', '3', '4', '5')\n",
      "('A', 'B', 'C', 'D', 'F', '0', '2', '3', '4', '5')\n",
      "('A', 'B', 'C', 'D', 'F', '1', '2', '3', '4', '5')\n",
      "('A', 'B', 'C', 'D', '0', '1', '2', '3', '4', '5')\n",
      "('A', 'B', 'C', 'E', 'F', '0', '1', '2', '3', '4')\n",
      "('A', 'B', 'C', 'E', 'F', '0', '1', '2', '3', '5')\n",
      "('A', 'B', 'C', 'E', 'F', '0', '1', '2', '4', '5')\n",
      "('A', 'B', 'C', 'E', 'F', '0', '1', '3', '4', '5')\n",
      "('A', 'B', 'C', 'E', 'F', '0', '2', '3', '4', '5')\n",
      "('A', 'B', 'C', 'E', 'F', '1', '2', '3', '4', '5')\n",
      "('A', 'B', 'C', 'E', '0', '1', '2', '3', '4', '5')\n",
      "('A', 'B', 'C', 'F', '0', '1', '2', '3', '4', '5')\n",
      "('A', 'B', 'D', 'E', 'F', '0', '1', '2', '3', '4')\n",
      "('A', 'B', 'D', 'E', 'F', '0', '1', '2', '3', '5')\n",
      "('A', 'B', 'D', 'E', 'F', '0', '1', '2', '4', '5')\n",
      "('A', 'B', 'D', 'E', 'F', '0', '1', '3', '4', '5')\n",
      "('A', 'B', 'D', 'E', 'F', '0', '2', '3', '4', '5')\n",
      "('A', 'B', 'D', 'E', 'F', '1', '2', '3', '4', '5')\n",
      "('A', 'B', 'D', 'E', '0', '1', '2', '3', '4', '5')\n",
      "('A', 'B', 'D', 'F', '0', '1', '2', '3', '4', '5')\n",
      "('A', 'B', 'E', 'F', '0', '1', '2', '3', '4', '5')\n",
      "('A', 'C', 'D', 'E', 'F', '0', '1', '2', '3', '4')\n",
      "('A', 'C', 'D', 'E', 'F', '0', '1', '2', '3', '5')\n",
      "('A', 'C', 'D', 'E', 'F', '0', '1', '2', '4', '5')\n",
      "('A', 'C', 'D', 'E', 'F', '0', '1', '3', '4', '5')\n",
      "('A', 'C', 'D', 'E', 'F', '0', '2', '3', '4', '5')\n",
      "('A', 'C', 'D', 'E', 'F', '1', '2', '3', '4', '5')\n",
      "('A', 'C', 'D', 'E', '0', '1', '2', '3', '4', '5')\n",
      "('A', 'C', 'D', 'F', '0', '1', '2', '3', '4', '5')\n",
      "('A', 'C', 'E', 'F', '0', '1', '2', '3', '4', '5')\n",
      "('A', 'D', 'E', 'F', '0', '1', '2', '3', '4', '5')\n",
      "('B', 'C', 'D', 'E', 'F', '0', '1', '2', '3', '4')\n",
      "('B', 'C', 'D', 'E', 'F', '0', '1', '2', '3', '5')\n",
      "('B', 'C', 'D', 'E', 'F', '0', '1', '2', '4', '5')\n",
      "('B', 'C', 'D', 'E', 'F', '0', '1', '3', '4', '5')\n",
      "('B', 'C', 'D', 'E', 'F', '0', '2', '3', '4', '5')\n",
      "('B', 'C', 'D', 'E', 'F', '1', '2', '3', '4', '5')\n",
      "('B', 'C', 'D', 'E', '0', '1', '2', '3', '4', '5')\n",
      "('B', 'C', 'D', 'F', '0', '1', '2', '3', '4', '5')\n",
      "('B', 'C', 'E', 'F', '0', '1', '2', '3', '4', '5')\n",
      "('B', 'D', 'E', 'F', '0', '1', '2', '3', '4', '5')\n",
      "('C', 'D', 'E', 'F', '0', '1', '2', '3', '4', '5')\n"
     ]
    }
   ],
   "source": [
    "caracteres = [\"A\", \"B\", \"C\", \"D\", \"E\", \"F\", \"0\", \"1\", \"2\", \"3\", \"4\", \"5\"]\n",
    "n = len(caracteres)\n",
    "r = 10\n",
    "\n",
    "Cn = mt.factorial(n) / (mt.factorial(r) * mt.factorial(n-r))\n",
    "\n",
    "print(\"Existen\", Cn , \" posibkes combinaciones sin repeticion del total de \", n , \"caracteres\", \" en grupos de \", r , \"en\", r)\n",
    "\n",
    "print(\"Aqui las combinaciones\")\n",
    "combinaciones_caracteres = list(combinations(caracteres, r))\n",
    "\n",
    "#imprimir las combinaciones\n",
    "for combinacion in combinaciones_caracteres:\n",
    "    print(combinacion)"
   ]
  },
  {
   "cell_type": "markdown",
   "id": "87bb30ec-7f17-4db8-8efe-df2004aa3b4c",
   "metadata": {},
   "source": [
    "## Ultima practica de combinaciones pero con el ejemplo del dado"
   ]
  },
  {
   "cell_type": "code",
   "execution_count": 9,
   "id": "a2e5ad44-f1ac-45ac-96ec-8b9cf1d2d72a",
   "metadata": {},
   "outputs": [
    {
     "name": "stdout",
     "output_type": "stream",
     "text": [
      "Existen 21.0  posibles combinaciones con repeticion del total de  6 caracteres  en grupos de  2  en  2\n",
      "Aqui las combinaciones con repeticion de dos dados\n",
      "(1, 1)\n",
      "(1, 2)\n",
      "(1, 3)\n",
      "(1, 4)\n",
      "(1, 5)\n",
      "(1, 6)\n",
      "(2, 2)\n",
      "(2, 3)\n",
      "(2, 4)\n",
      "(2, 5)\n",
      "(2, 6)\n",
      "(3, 3)\n",
      "(3, 4)\n",
      "(3, 5)\n",
      "(3, 6)\n",
      "(4, 4)\n",
      "(4, 5)\n",
      "(4, 6)\n",
      "(5, 5)\n",
      "(5, 6)\n",
      "(6, 6)\n"
     ]
    }
   ],
   "source": [
    "dado = [1, 2, 3, 4, 5, 6]\n",
    "n = len(dado)\n",
    "r = 2 # de dos porque hay mas dados\n",
    "CnR = mt.factorial(n+r-1) / (mt.factorial(r) * mt.factorial((n+r-1)-r))\n",
    "\n",
    "print(\"Existen\", CnR , \" posibles combinaciones con repeticion del total de \", n ,\n",
    "     \"caracteres\", \" en grupos de \", r , \" en \", r)\n",
    "print(\"Aqui las combinaciones con repeticion de dos dados\")\n",
    "\n",
    "# Definir el conjunto de elementos\n",
    "elementos = [1, 2, 3, 4, 5, 6]\n",
    "\n",
    "# Numero de elements a elegir en cada combinacion\n",
    "r = 2\n",
    "\n",
    "# Calcular las combinaciones con repeticion\n",
    "combinaciones_dados = list(combinations_with_replacement(dado, r))\n",
    "\n",
    "#imprimir las combinaciones\n",
    "for combinacion in combinaciones_dados:\n",
    "    print(combinacion)"
   ]
  },
  {
   "cell_type": "markdown",
   "id": "a04e3522-161b-4be5-969d-564004d8c5d6",
   "metadata": {},
   "source": [
    "## Practica 2 de permutaciones sin repeticion"
   ]
  },
  {
   "cell_type": "code",
   "execution_count": 1,
   "id": "df3673dc-bc70-4b18-9e18-136c02851124",
   "metadata": {},
   "outputs": [],
   "source": [
    "import math as mt #Utilizar el factorial\n",
    "from itertools import permutations\n",
    "from itertools import product\n",
    "import numpy as np"
   ]
  },
  {
   "cell_type": "code",
   "execution_count": 2,
   "id": "4adf7d7a-770e-4123-bcfc-ed8b06b7ef8e",
   "metadata": {},
   "outputs": [
    {
     "data": {
      "text/plain": [
       "5040"
      ]
     },
     "execution_count": 2,
     "metadata": {},
     "output_type": "execute_result"
    }
   ],
   "source": [
    "mt.factorial(7)"
   ]
  },
  {
   "cell_type": "code",
   "execution_count": 3,
   "id": "10d59b0d-b680-45dd-adf6-559fda2c1a47",
   "metadata": {},
   "outputs": [
    {
     "data": {
      "text/plain": [
       "24"
      ]
     },
     "execution_count": 3,
     "metadata": {},
     "output_type": "execute_result"
    }
   ],
   "source": [
    "mt.factorial(4)"
   ]
  },
  {
   "cell_type": "code",
   "execution_count": 4,
   "id": "e5846870-c1bd-4636-abd2-e02a4cee3e2e",
   "metadata": {},
   "outputs": [
    {
     "data": {
      "text/plain": [
       "210.0"
      ]
     },
     "execution_count": 4,
     "metadata": {},
     "output_type": "execute_result"
    }
   ],
   "source": [
    "5040 / 24"
   ]
  },
  {
   "cell_type": "code",
   "execution_count": 5,
   "id": "9cc0221d-e012-45f5-b68f-1d7c9527d332",
   "metadata": {},
   "outputs": [
    {
     "name": "stdout",
     "output_type": "stream",
     "text": [
      "Existen 210.0  posibles permutaciones sin repeticion del total de  7  nombres   en grupos de  3  en  3\n",
      "Aqui las permutaciones\n",
      "('a', 'b', 'c')\n",
      "('a', 'b', 'd')\n",
      "('a', 'b', 'e')\n",
      "('a', 'b', 'f')\n",
      "('a', 'b', 'g')\n",
      "('a', 'c', 'b')\n",
      "('a', 'c', 'd')\n",
      "('a', 'c', 'e')\n",
      "('a', 'c', 'f')\n",
      "('a', 'c', 'g')\n",
      "('a', 'd', 'b')\n",
      "('a', 'd', 'c')\n",
      "('a', 'd', 'e')\n",
      "('a', 'd', 'f')\n",
      "('a', 'd', 'g')\n",
      "('a', 'e', 'b')\n",
      "('a', 'e', 'c')\n",
      "('a', 'e', 'd')\n",
      "('a', 'e', 'f')\n",
      "('a', 'e', 'g')\n",
      "('a', 'f', 'b')\n",
      "('a', 'f', 'c')\n",
      "('a', 'f', 'd')\n",
      "('a', 'f', 'e')\n",
      "('a', 'f', 'g')\n",
      "('a', 'g', 'b')\n",
      "('a', 'g', 'c')\n",
      "('a', 'g', 'd')\n",
      "('a', 'g', 'e')\n",
      "('a', 'g', 'f')\n",
      "('b', 'a', 'c')\n",
      "('b', 'a', 'd')\n",
      "('b', 'a', 'e')\n",
      "('b', 'a', 'f')\n",
      "('b', 'a', 'g')\n",
      "('b', 'c', 'a')\n",
      "('b', 'c', 'd')\n",
      "('b', 'c', 'e')\n",
      "('b', 'c', 'f')\n",
      "('b', 'c', 'g')\n",
      "('b', 'd', 'a')\n",
      "('b', 'd', 'c')\n",
      "('b', 'd', 'e')\n",
      "('b', 'd', 'f')\n",
      "('b', 'd', 'g')\n",
      "('b', 'e', 'a')\n",
      "('b', 'e', 'c')\n",
      "('b', 'e', 'd')\n",
      "('b', 'e', 'f')\n",
      "('b', 'e', 'g')\n",
      "('b', 'f', 'a')\n",
      "('b', 'f', 'c')\n",
      "('b', 'f', 'd')\n",
      "('b', 'f', 'e')\n",
      "('b', 'f', 'g')\n",
      "('b', 'g', 'a')\n",
      "('b', 'g', 'c')\n",
      "('b', 'g', 'd')\n",
      "('b', 'g', 'e')\n",
      "('b', 'g', 'f')\n",
      "('c', 'a', 'b')\n",
      "('c', 'a', 'd')\n",
      "('c', 'a', 'e')\n",
      "('c', 'a', 'f')\n",
      "('c', 'a', 'g')\n",
      "('c', 'b', 'a')\n",
      "('c', 'b', 'd')\n",
      "('c', 'b', 'e')\n",
      "('c', 'b', 'f')\n",
      "('c', 'b', 'g')\n",
      "('c', 'd', 'a')\n",
      "('c', 'd', 'b')\n",
      "('c', 'd', 'e')\n",
      "('c', 'd', 'f')\n",
      "('c', 'd', 'g')\n",
      "('c', 'e', 'a')\n",
      "('c', 'e', 'b')\n",
      "('c', 'e', 'd')\n",
      "('c', 'e', 'f')\n",
      "('c', 'e', 'g')\n",
      "('c', 'f', 'a')\n",
      "('c', 'f', 'b')\n",
      "('c', 'f', 'd')\n",
      "('c', 'f', 'e')\n",
      "('c', 'f', 'g')\n",
      "('c', 'g', 'a')\n",
      "('c', 'g', 'b')\n",
      "('c', 'g', 'd')\n",
      "('c', 'g', 'e')\n",
      "('c', 'g', 'f')\n",
      "('d', 'a', 'b')\n",
      "('d', 'a', 'c')\n",
      "('d', 'a', 'e')\n",
      "('d', 'a', 'f')\n",
      "('d', 'a', 'g')\n",
      "('d', 'b', 'a')\n",
      "('d', 'b', 'c')\n",
      "('d', 'b', 'e')\n",
      "('d', 'b', 'f')\n",
      "('d', 'b', 'g')\n",
      "('d', 'c', 'a')\n",
      "('d', 'c', 'b')\n",
      "('d', 'c', 'e')\n",
      "('d', 'c', 'f')\n",
      "('d', 'c', 'g')\n",
      "('d', 'e', 'a')\n",
      "('d', 'e', 'b')\n",
      "('d', 'e', 'c')\n",
      "('d', 'e', 'f')\n",
      "('d', 'e', 'g')\n",
      "('d', 'f', 'a')\n",
      "('d', 'f', 'b')\n",
      "('d', 'f', 'c')\n",
      "('d', 'f', 'e')\n",
      "('d', 'f', 'g')\n",
      "('d', 'g', 'a')\n",
      "('d', 'g', 'b')\n",
      "('d', 'g', 'c')\n",
      "('d', 'g', 'e')\n",
      "('d', 'g', 'f')\n",
      "('e', 'a', 'b')\n",
      "('e', 'a', 'c')\n",
      "('e', 'a', 'd')\n",
      "('e', 'a', 'f')\n",
      "('e', 'a', 'g')\n",
      "('e', 'b', 'a')\n",
      "('e', 'b', 'c')\n",
      "('e', 'b', 'd')\n",
      "('e', 'b', 'f')\n",
      "('e', 'b', 'g')\n",
      "('e', 'c', 'a')\n",
      "('e', 'c', 'b')\n",
      "('e', 'c', 'd')\n",
      "('e', 'c', 'f')\n",
      "('e', 'c', 'g')\n",
      "('e', 'd', 'a')\n",
      "('e', 'd', 'b')\n",
      "('e', 'd', 'c')\n",
      "('e', 'd', 'f')\n",
      "('e', 'd', 'g')\n",
      "('e', 'f', 'a')\n",
      "('e', 'f', 'b')\n",
      "('e', 'f', 'c')\n",
      "('e', 'f', 'd')\n",
      "('e', 'f', 'g')\n",
      "('e', 'g', 'a')\n",
      "('e', 'g', 'b')\n",
      "('e', 'g', 'c')\n",
      "('e', 'g', 'd')\n",
      "('e', 'g', 'f')\n",
      "('f', 'a', 'b')\n",
      "('f', 'a', 'c')\n",
      "('f', 'a', 'd')\n",
      "('f', 'a', 'e')\n",
      "('f', 'a', 'g')\n",
      "('f', 'b', 'a')\n",
      "('f', 'b', 'c')\n",
      "('f', 'b', 'd')\n",
      "('f', 'b', 'e')\n",
      "('f', 'b', 'g')\n",
      "('f', 'c', 'a')\n",
      "('f', 'c', 'b')\n",
      "('f', 'c', 'd')\n",
      "('f', 'c', 'e')\n",
      "('f', 'c', 'g')\n",
      "('f', 'd', 'a')\n",
      "('f', 'd', 'b')\n",
      "('f', 'd', 'c')\n",
      "('f', 'd', 'e')\n",
      "('f', 'd', 'g')\n",
      "('f', 'e', 'a')\n",
      "('f', 'e', 'b')\n",
      "('f', 'e', 'c')\n",
      "('f', 'e', 'd')\n",
      "('f', 'e', 'g')\n",
      "('f', 'g', 'a')\n",
      "('f', 'g', 'b')\n",
      "('f', 'g', 'c')\n",
      "('f', 'g', 'd')\n",
      "('f', 'g', 'e')\n",
      "('g', 'a', 'b')\n",
      "('g', 'a', 'c')\n",
      "('g', 'a', 'd')\n",
      "('g', 'a', 'e')\n",
      "('g', 'a', 'f')\n",
      "('g', 'b', 'a')\n",
      "('g', 'b', 'c')\n",
      "('g', 'b', 'd')\n",
      "('g', 'b', 'e')\n",
      "('g', 'b', 'f')\n",
      "('g', 'c', 'a')\n",
      "('g', 'c', 'b')\n",
      "('g', 'c', 'd')\n",
      "('g', 'c', 'e')\n",
      "('g', 'c', 'f')\n",
      "('g', 'd', 'a')\n",
      "('g', 'd', 'b')\n",
      "('g', 'd', 'c')\n",
      "('g', 'd', 'e')\n",
      "('g', 'd', 'f')\n",
      "('g', 'e', 'a')\n",
      "('g', 'e', 'b')\n",
      "('g', 'e', 'c')\n",
      "('g', 'e', 'd')\n",
      "('g', 'e', 'f')\n",
      "('g', 'f', 'a')\n",
      "('g', 'f', 'b')\n",
      "('g', 'f', 'c')\n",
      "('g', 'f', 'd')\n",
      "('g', 'f', 'e')\n"
     ]
    }
   ],
   "source": [
    "nombres = [\"a\", \"b\", \"c\", \"d\", \"e\", \"f\", \"g\"] \n",
    "n = len(nombres)\n",
    "r = 3\n",
    "\n",
    "Pr = mt.factorial(n) / (mt.factorial(n-r))\n",
    "\n",
    "print(\"Existen\", Pr , \" posibles permutaciones sin repeticion del total de \",\n",
    "     n, \" nombres \", \" en grupos de \", r ,\" en \", r)\n",
    "\n",
    "print(\"Aqui las permutaciones\")\n",
    "permutaciones_nombres = list(permutations(nombres, r))\n",
    "\n",
    "# Imprimir las permutaciones \n",
    "for permutacion in permutaciones_nombres:\n",
    "    print(permutacion)"
   ]
  },
  {
   "cell_type": "markdown",
   "id": "4ae26b4f-bf12-435c-8626-5e1702884e15",
   "metadata": {},
   "source": [
    "## Practica 3 de permutaciones con los 10 asistentes"
   ]
  },
  {
   "cell_type": "code",
   "execution_count": 6,
   "id": "0bfabd7d-9235-45f7-b8cd-0f8fbc613898",
   "metadata": {},
   "outputs": [],
   "source": [
    "import math as mt #Utilizar el factorial\n",
    "from itertools import permutations\n",
    "from itertools import product\n",
    "import numpy as np"
   ]
  },
  {
   "cell_type": "code",
   "execution_count": 11,
   "id": "616d0862-a175-4f5c-adcd-87299b7d7d69",
   "metadata": {},
   "outputs": [],
   "source": [
    "n = 10"
   ]
  },
  {
   "cell_type": "code",
   "execution_count": 12,
   "id": "f797e9c1-a2a4-4ff2-a5c8-c5af973e2b50",
   "metadata": {},
   "outputs": [],
   "source": [
    "k = 4"
   ]
  },
  {
   "cell_type": "code",
   "execution_count": 13,
   "id": "90faa5b5-ac70-4e71-90a8-9916b7b61f38",
   "metadata": {},
   "outputs": [
    {
     "name": "stdout",
     "output_type": "stream",
     "text": [
      "numero de permutaciones: 5040\n"
     ]
    }
   ],
   "source": [
    "num_permutations = len(list(permutations(range(n), k)))\n",
    "print(\"numero de permutaciones:\", num_permutations)"
   ]
  },
  {
   "cell_type": "code",
   "execution_count": 14,
   "id": "19d3288e-6b32-4f86-a7a0-25e0713e1403",
   "metadata": {},
   "outputs": [
    {
     "data": {
      "text/plain": [
       "3628800"
      ]
     },
     "execution_count": 14,
     "metadata": {},
     "output_type": "execute_result"
    }
   ],
   "source": [
    "mt.factorial(10)"
   ]
  },
  {
   "cell_type": "code",
   "execution_count": 16,
   "id": "94ea2878-e7d0-4050-b710-0ab79aeb37c0",
   "metadata": {},
   "outputs": [
    {
     "data": {
      "text/plain": [
       "720"
      ]
     },
     "execution_count": 16,
     "metadata": {},
     "output_type": "execute_result"
    }
   ],
   "source": [
    "mt.factorial(6)"
   ]
  },
  {
   "cell_type": "code",
   "execution_count": 18,
   "id": "b25ef1cc-f200-4c13-b2fc-894e60fd6894",
   "metadata": {},
   "outputs": [
    {
     "data": {
      "text/plain": [
       "('El numero de permutaciones es: ', 5040.0)"
      ]
     },
     "execution_count": 18,
     "metadata": {},
     "output_type": "execute_result"
    }
   ],
   "source": [
    "\n",
    "\"El numero de permutaciones es: \", 3628800 / 720\n"
   ]
  },
  {
   "cell_type": "code",
   "execution_count": null,
   "id": "6c644bb2-ac60-4674-b115-ea0f6227685e",
   "metadata": {},
   "outputs": [],
   "source": []
  }
 ],
 "metadata": {
  "kernelspec": {
   "display_name": "Python 3 (ipykernel)",
   "language": "python",
   "name": "python3"
  },
  "language_info": {
   "codemirror_mode": {
    "name": "ipython",
    "version": 3
   },
   "file_extension": ".py",
   "mimetype": "text/x-python",
   "name": "python",
   "nbconvert_exporter": "python",
   "pygments_lexer": "ipython3",
   "version": "3.12.2"
  }
 },
 "nbformat": 4,
 "nbformat_minor": 5
}
